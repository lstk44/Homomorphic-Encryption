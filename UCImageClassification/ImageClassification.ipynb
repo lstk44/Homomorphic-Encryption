{
 "cells": [
  {
   "cell_type": "markdown",
   "metadata": {},
   "source": [
    "# Medical Image Classification\n",
    "\n",
    "**Company Use Case:**\n",
    "\n",
    "\n",
    "**Approach:**\n",
    "\n",
    "\n",
    "\n",
    "The following Notebook will show two approaches to do this with ConcreteML.\n",
    "\n",
    "**Dataset Information:**\n",
    "\n",
    "_Dataset  1:_\n",
    "\n",
    "<span style=\"color:yellow\">description</span>\n",
    "\n",
    "**Dataset Source:**\n",
    "\n",
    "https://medmnist.com/\n",
    "\n",
    "Dataset 1:\n",
    "\n",
    "https://github.com/logpai/loghub/blob/master/Android/Android_2k.log_structured.csv"
   ]
  },
  {
   "cell_type": "markdown",
   "metadata": {},
   "source": [
    "# Imports"
   ]
  },
  {
   "cell_type": "code",
   "execution_count": 1,
   "metadata": {},
   "outputs": [],
   "source": [
    "import os\n",
    "import numpy as np\n",
    "import pandas as pd\n",
    "import matplotlib.pyplot as plt\n",
    "from tqdm import tqdm\n",
    "\n",
    "# MedMNIST\n",
    "import medmnist\n",
    "\n",
    "# SciKit-Learn\n",
    "from sklearn.model_selection import train_test_split\n",
    "from sklearn.metrics import *\n",
    "\n",
    "# PyTorch\n",
    "import torch\n",
    "import torch.utils.data as data\n",
    "import torchvision.transforms as transforms\n",
    "from torch.utils.data import TensorDataset, DataLoader\n",
    "from torchvision.models import resnet50, vgg16\n",
    "from torchsummary import summary"
   ]
  },
  {
   "cell_type": "code",
   "execution_count": 2,
   "metadata": {},
   "outputs": [
    {
     "data": {
      "text/plain": [
       "<torch._C.Generator at 0x7fd05917ecd0>"
      ]
     },
     "execution_count": 2,
     "metadata": {},
     "output_type": "execute_result"
    }
   ],
   "source": [
    "# # set random seed\n",
    "np.random.seed(1)\n",
    "torch.manual_seed(1)"
   ]
  },
  {
   "cell_type": "markdown",
   "metadata": {},
   "source": [
    "# General Functions"
   ]
  },
  {
   "cell_type": "code",
   "execution_count": 3,
   "metadata": {},
   "outputs": [],
   "source": [
    "###############################################################\n",
    "# Logging\n",
    "###############################################################\n",
    "\n",
    "def log_parameters():\n",
    "    if os.path.isfile(f'{dataset}_Experiments.csv'):\n",
    "        df = pd.read_csv(f'{dataset}_Experiments.csv')\n",
    "        df = df.drop_duplicates()\n",
    "        # append new row\n",
    "        df = pd.concat([df, pd.DataFrame({\n",
    "            'epochs': [epochs],\n",
    "            'learning_rate': [learning_rate],\n",
    "            'weight_decay': [weight_decay],\n",
    "            'model': [str(model)],\n",
    "            'final_train_loss': [train_losses[-1]],\n",
    "            'final_train_accuracy': [train_accuracies[-1]],\n",
    "            'final_val_loss': [val_losses[-1]],\n",
    "            'final_val_accuracy': [val_accuracies[-1]]\n",
    "            })])\n",
    "        # save csv\n",
    "        df.to_csv(f'{dataset}_Experiments.csv', index=False)\n",
    "\n",
    "    else:\n",
    "        df = pd.DataFrame({\n",
    "        'epochs': [epochs],\n",
    "        'learning_rate': [learning_rate],\n",
    "        'weight_decay': [weight_decay],\n",
    "        'model': [str(model)],\n",
    "        'final_train_loss': [train_losses[-1]],\n",
    "        'final_train_accuracy': [train_accuracies[-1]],\n",
    "        'final_val_loss': [val_losses[-1]],\n",
    "        'final_val_accuracy': [val_accuracies[-1]]\n",
    "        })\n",
    "        # save csv\n",
    "        df.to_csv(f'{dataset}_Experiments.csv', index=False)\n",
    "    \n",
    "    return 'Parameters Logged!'"
   ]
  },
  {
   "cell_type": "markdown",
   "metadata": {},
   "source": [
    "# Load Data"
   ]
  },
  {
   "cell_type": "code",
   "execution_count": 4,
   "metadata": {},
   "outputs": [
    {
     "name": "stdout",
     "output_type": "stream",
     "text": [
      "Using downloaded and verified file: /home/lukas/.medmnist/octmnist.npz\n",
      "Using downloaded and verified file: /home/lukas/.medmnist/octmnist.npz\n",
      "Using downloaded and verified file: /home/lukas/.medmnist/octmnist.npz\n",
      "\n",
      "Dataset OCTMNIST (octmnist)\n",
      "    Number of datapoints: 97477\n",
      "    Root location: /home/lukas/.medmnist\n",
      "    Split: train\n",
      "    Task: multi-class\n",
      "    Number of channels: 1\n",
      "    Meaning of labels: {'0': 'choroidal neovascularization', '1': 'diabetic macular edema', '2': 'drusen', '3': 'normal'}\n",
      "    Number of samples: {'train': 97477, 'val': 10832, 'test': 1000}\n",
      "    Description: The OCTMNIST is based on a prior dataset of 109,309 valid optical coherence tomography (OCT) images for retinal diseases. The dataset is comprised of 4 diagnosis categories, leading to a multi-class classification task. We split the source training set with a ratio of 9:1 into training and validation set, and use its source validation set as the test set. The source images are gray-scale, and their sizes are (384−1,536)×(277−512). We center-crop the images and resize them into 1×28×28.\n",
      "    License: CC BY 4.0\n"
     ]
    }
   ],
   "source": [
    "dataset = 'OCTMNIST'\n",
    "# dataset = 'PneumoniaMNIST'\n",
    "\n",
    "# initialize DataClass\n",
    "DataClass = getattr(medmnist, dataset)\n",
    "\n",
    "# download data\n",
    "train_dataset = DataClass(split='train',download=True)\n",
    "eval_dataset = DataClass(split='val', download=True)\n",
    "test_dataset = DataClass(split='test', download=True)\n",
    "\n",
    "# print infos\n",
    "print(f'\\n{train_dataset}')"
   ]
  },
  {
   "cell_type": "code",
   "execution_count": 5,
   "metadata": {},
   "outputs": [],
   "source": [
    "# data to numpy\n",
    "xtrain, ytrain = train_dataset.imgs, train_dataset.labels\n",
    "xval, yval = eval_dataset.imgs, eval_dataset.labels\n",
    "xtest, ytest = test_dataset.imgs, test_dataset.labels\n",
    "\n",
    "# filter data to binary classification\n",
    "# class 0 & class 1\n",
    "if len(np.unique(ytrain.flatten())) > 2:\n",
    "    xtrain, ytrain = xtrain[ytrain.flatten()<2], ytrain[ytrain.flatten()<2]\n",
    "    xval, yval = xval[yval.flatten()<2], yval[yval.flatten()<2]\n",
    "    xtest, ytest = xtest[ytest.flatten()<2], ytest[ytest.flatten()<2]\n",
    "\n",
    "# expand dimension (grayscale)\n",
    "# (channels=1, height=28, width=28)\n",
    "xtrain = np.expand_dims(xtrain, axis=1)\n",
    "xval = np.expand_dims(xval, axis=1)\n",
    "xtest = np.expand_dims(xtest, axis=1)\n",
    "\n",
    "# expand dimension (rgb) - needed for pretrained models\n",
    "# (channels=3, height=28, width=28)\n",
    "xtrain_rgb = np.repeat(xtrain, 3, axis=1)\n",
    "xval_rgb = np.repeat(xval, 3, axis=1)\n",
    "xtest_rgb = np.repeat(xtest, 3, axis=1)"
   ]
  },
  {
   "cell_type": "code",
   "execution_count": 6,
   "metadata": {},
   "outputs": [
    {
     "data": {
      "image/png": "[encoded data removed]",
      "text/plain": [
       "<Figure size 1000x500 with 2 Axes>"
      ]
     },
     "metadata": {},
     "output_type": "display_data"
    }
   ],
   "source": [
    "# plot sample images of each class\n",
    "n_classes = len(np.unique(ytrain))\n",
    "\n",
    "fig, ax = plt.subplots(nrows=1, ncols=n_classes, figsize=(10, 5))\n",
    "for i in range(n_classes):\n",
    "    ax[i].imshow(xtrain[ytrain.flatten()==i][0][0], cmap='gray')\n",
    "    ax[i].set_title(f'Class {i}')\n",
    "    ax[i].axis('off')"
   ]
  },
  {
   "cell_type": "markdown",
   "metadata": {},
   "source": [
    "# Modelling"
   ]
  },
  {
   "cell_type": "markdown",
   "metadata": {},
   "source": [
    "## Convolutional Neural Network"
   ]
  },
  {
   "cell_type": "code",
   "execution_count": 7,
   "metadata": {},
   "outputs": [],
   "source": [
    "epochs = 30\n",
    "learning_rate = 0.0001\n",
    "weight_decay = 0.0001"
   ]
  },
  {
   "cell_type": "code",
   "execution_count": 8,
   "metadata": {},
   "outputs": [],
   "source": [
    "xtrain_tensor, ytrain_tensor = torch.tensor(xtrain, dtype=torch.float), torch.tensor(ytrain, dtype=torch.float)\n",
    "xval_tensor, yval_tensor = torch.tensor(xval, dtype=torch.float), torch.tensor(yval, dtype=torch.float)\n",
    "xtest_tensor, ytest_tensor = torch.tensor(xtest, dtype=torch.float), torch.tensor(ytest, dtype=torch.float)"
   ]
  },
  {
   "cell_type": "code",
   "execution_count": 9,
   "metadata": {},
   "outputs": [
    {
     "name": "stdout",
     "output_type": "stream",
     "text": [
      "----------------------------------------------------------------\n",
      "        Layer (type)               Output Shape         Param #\n",
      "================================================================\n",
      "            Conv2d-1            [-1, 2, 24, 24]              52\n",
      "              ReLU-2            [-1, 2, 24, 24]               0\n",
      "         AvgPool2d-3            [-1, 2, 12, 12]               0\n",
      "            Conv2d-4              [-1, 4, 8, 8]             204\n",
      "           Flatten-5                  [-1, 256]               0\n",
      "            Linear-6                    [-1, 1]             257\n",
      "           Sigmoid-7                    [-1, 1]               0\n",
      "================================================================\n",
      "Total params: 513\n",
      "Trainable params: 513\n",
      "Non-trainable params: 0\n",
      "----------------------------------------------------------------\n",
      "Input size (MB): 0.00\n",
      "Forward/backward pass size (MB): 0.02\n",
      "Params size (MB): 0.00\n",
      "Estimated Total Size (MB): 0.03\n",
      "----------------------------------------------------------------\n"
     ]
    }
   ],
   "source": [
    "n_classes = len(np.unique(ytrain))\n",
    "\n",
    "model = torch.nn.Sequential(\n",
    "      torch.nn.Conv2d(in_channels=1, out_channels=2, kernel_size=5),\n",
    "      torch.nn.ReLU(),\n",
    "      torch.nn.AvgPool2d(kernel_size=2, stride=2),\n",
    "      torch.nn.Conv2d(in_channels=2, out_channels=4, kernel_size=5),\n",
    "      torch.nn.Flatten(),\n",
    "      torch.nn.Linear(in_features=256, out_features=1, bias=True),\n",
    "      torch.nn.Sigmoid()\n",
    ")\n",
    "\n",
    "criterion = torch.nn.BCELoss()\n",
    "optimizer = torch.optim.Adam(model.parameters(), lr=learning_rate, weight_decay=weight_decay)\n",
    "\n",
    "summary(model, input_size=(1, 28, 28))"
   ]
  },
  {
   "cell_type": "code",
   "execution_count": 10,
   "metadata": {},
   "outputs": [
    {
     "name": "stderr",
     "output_type": "stream",
     "text": [
      "100%|██████████| 30/30 [31:14<00:00, 62.49s/it]\n"
     ]
    },
    {
     "data": {
      "image/png": "[encoded data removed]",
      "text/plain": [
       "<Figure size 1000x500 with 2 Axes>"
      ]
     },
     "metadata": {},
     "output_type": "display_data"
    }
   ],
   "source": [
    "train_losses = []\n",
    "val_losses = []\n",
    "train_accuracies = []\n",
    "val_accuracies = []\n",
    "\n",
    "for epoch in tqdm(range(epochs)):\n",
    "  # training\n",
    "  model.train()\n",
    "  for i in range(0, len(xtrain_tensor), 1):\n",
    "    inputs = xtrain_tensor[i:i+1]\n",
    "    labels = ytrain_tensor[i:i+1]\n",
    "\n",
    "    optimizer.zero_grad()\n",
    "    outputs = model(inputs)\n",
    "    loss = criterion(outputs, labels)\n",
    "    loss.backward()\n",
    "    optimizer.step()\n",
    "\n",
    "  # log metrics\n",
    "  model.eval()\n",
    "  with torch.no_grad():\n",
    "    train_outputs = model(xtrain_tensor)\n",
    "    train_loss = criterion(train_outputs, ytrain_tensor)\n",
    "    predicted = torch.round(train_outputs)\n",
    "    train_accuracy = accuracy_score(predicted.detach().numpy(), ytrain_tensor.detach().numpy())*100\n",
    "\n",
    "    val_outputs = model(xval_tensor)\n",
    "    val_loss = criterion(val_outputs, yval_tensor)\n",
    "    predicted = torch.round(val_outputs)\n",
    "    val_accuracy = accuracy_score(predicted.detach().numpy(), yval_tensor.detach().numpy())*100\n",
    "\n",
    "  train_losses.append(train_loss.item())\n",
    "  val_losses.append(val_loss.item())\n",
    "  train_accuracies.append(train_accuracy)\n",
    "  val_accuracies.append(val_accuracy)\n",
    "\n",
    "# Plotting\n",
    "fig, ax = plt.subplots(1, 2, figsize=(10, 5))\n",
    "ax[0].plot(train_losses, label='Training Loss')\n",
    "ax[0].plot(val_losses, label='Validation Loss')\n",
    "ax[0].set_xticks(np.arange(0, epochs, 1))\n",
    "ax[0]. set_xlabel('Epochs')\n",
    "ax[0].set_title('Loss')\n",
    "ax[0].legend()\n",
    "ax[1].plot(train_accuracies, label='Training Accuracy')\n",
    "ax[1].plot(val_accuracies, label='Validation Accuracy')\n",
    "ax[1].set_xticks(np.arange(0, epochs, 1))\n",
    "ax[1]. set_xlabel('Epochs')\n",
    "ax[1].set_title('Accuracy')\n",
    "ax[1].legend()\n",
    "plt.show()"
   ]
  },
  {
   "cell_type": "code",
   "execution_count": 11,
   "metadata": {},
   "outputs": [
    {
     "data": {
      "text/html": [
       "<div>\n",
       "<style scoped>\n",
       "    .dataframe tbody tr th:only-of-type {\n",
       "        vertical-align: middle;\n",
       "    }\n",
       "\n",
       "    .dataframe tbody tr th {\n",
       "        vertical-align: top;\n",
       "    }\n",
       "\n",
       "    .dataframe thead th {\n",
       "        text-align: right;\n",
       "    }\n",
       "</style>\n",
       "<table border=\"1\" class=\"dataframe\">\n",
       "  <thead>\n",
       "    <tr style=\"text-align: right;\">\n",
       "      <th></th>\n",
       "      <th>epochs</th>\n",
       "      <th>learning_rate</th>\n",
       "      <th>weight_decay</th>\n",
       "      <th>model</th>\n",
       "      <th>final_train_loss</th>\n",
       "      <th>final_train_accuracy</th>\n",
       "      <th>final_val_loss</th>\n",
       "      <th>final_val_accuracy</th>\n",
       "    </tr>\n",
       "  </thead>\n",
       "  <tbody>\n",
       "    <tr>\n",
       "      <th>1</th>\n",
       "      <td>20</td>\n",
       "      <td>0.0001</td>\n",
       "      <td>0.0001</td>\n",
       "      <td>Sequential(\\n  (0): Conv2d(1, 2, kernel_size=(...</td>\n",
       "      <td>0.258403</td>\n",
       "      <td>89.550770</td>\n",
       "      <td>0.272967</td>\n",
       "      <td>89.126853</td>\n",
       "    </tr>\n",
       "    <tr>\n",
       "      <th>0</th>\n",
       "      <td>10</td>\n",
       "      <td>0.0001</td>\n",
       "      <td>0.0001</td>\n",
       "      <td>Sequential(\\n  (0): Conv2d(1, 2, kernel_size=(...</td>\n",
       "      <td>0.282173</td>\n",
       "      <td>88.694876</td>\n",
       "      <td>0.286282</td>\n",
       "      <td>88.529654</td>\n",
       "    </tr>\n",
       "    <tr>\n",
       "      <th>5</th>\n",
       "      <td>30</td>\n",
       "      <td>0.0001</td>\n",
       "      <td>0.0001</td>\n",
       "      <td>Sequential(\\n  (0): Conv2d(1, 2, kernel_size=(...</td>\n",
       "      <td>0.274739</td>\n",
       "      <td>88.777262</td>\n",
       "      <td>0.275792</td>\n",
       "      <td>88.488468</td>\n",
       "    </tr>\n",
       "    <tr>\n",
       "      <th>4</th>\n",
       "      <td>10</td>\n",
       "      <td>0.0001</td>\n",
       "      <td>0.0001</td>\n",
       "      <td>Sequential(\\n  (0): Conv2d(1, 2, kernel_size=(...</td>\n",
       "      <td>0.288036</td>\n",
       "      <td>88.200563</td>\n",
       "      <td>0.285701</td>\n",
       "      <td>87.932455</td>\n",
       "    </tr>\n",
       "    <tr>\n",
       "      <th>2</th>\n",
       "      <td>20</td>\n",
       "      <td>0.0001</td>\n",
       "      <td>0.0001</td>\n",
       "      <td>Sequential(\\n  (0): Conv2d(1, 3, kernel_size=(...</td>\n",
       "      <td>0.292401</td>\n",
       "      <td>88.433989</td>\n",
       "      <td>0.307772</td>\n",
       "      <td>87.623558</td>\n",
       "    </tr>\n",
       "    <tr>\n",
       "      <th>3</th>\n",
       "      <td>10</td>\n",
       "      <td>0.0010</td>\n",
       "      <td>0.0001</td>\n",
       "      <td>Sequential(\\n  (0): Conv2d(1, 2, kernel_size=(...</td>\n",
       "      <td>0.543749</td>\n",
       "      <td>76.627686</td>\n",
       "      <td>0.543758</td>\n",
       "      <td>76.626853</td>\n",
       "    </tr>\n",
       "  </tbody>\n",
       "</table>\n",
       "</div>"
      ],
      "text/plain": [
       "   epochs  learning_rate  weight_decay  \\\n",
       "1      20         0.0001        0.0001   \n",
       "0      10         0.0001        0.0001   \n",
       "5      30         0.0001        0.0001   \n",
       "4      10         0.0001        0.0001   \n",
       "2      20         0.0001        0.0001   \n",
       "3      10         0.0010        0.0001   \n",
       "\n",
       "                                               model  final_train_loss  \\\n",
       "1  Sequential(\\n  (0): Conv2d(1, 2, kernel_size=(...          0.258403   \n",
       "0  Sequential(\\n  (0): Conv2d(1, 2, kernel_size=(...          0.282173   \n",
       "5  Sequential(\\n  (0): Conv2d(1, 2, kernel_size=(...          0.274739   \n",
       "4  Sequential(\\n  (0): Conv2d(1, 2, kernel_size=(...          0.288036   \n",
       "2  Sequential(\\n  (0): Conv2d(1, 3, kernel_size=(...          0.292401   \n",
       "3  Sequential(\\n  (0): Conv2d(1, 2, kernel_size=(...          0.543749   \n",
       "\n",
       "   final_train_accuracy  final_val_loss  final_val_accuracy  \n",
       "1             89.550770        0.272967           89.126853  \n",
       "0             88.694876        0.286282           88.529654  \n",
       "5             88.777262        0.275792           88.488468  \n",
       "4             88.200563        0.285701           87.932455  \n",
       "2             88.433989        0.307772           87.623558  \n",
       "3             76.627686        0.543758           76.626853  "
      ]
     },
     "execution_count": 11,
     "metadata": {},
     "output_type": "execute_result"
    }
   ],
   "source": [
    "log_parameters()\n",
    "\n",
    "pd.read_csv(f'{dataset}_Experiments.csv').sort_values(by='final_val_accuracy', ascending=False)"
   ]
  },
  {
   "cell_type": "markdown",
   "metadata": {},
   "source": [
    "## Pre-Trained Model & XGBoost"
   ]
  },
  {
   "cell_type": "code",
   "execution_count": 12,
   "metadata": {},
   "outputs": [],
   "source": [
    "# # check how image looks like after resnet50 preprocessing\n",
    "# x = train_dataset[0][0][0]\n",
    "# plt.imshow(x, cmap='gray')\n",
    "# plt.show()\n",
    "\n",
    "# # resnet50 preprocessing\n",
    "# preprocess = transforms.Compose([\n",
    "#     transforms.ToPILImage(),\n",
    "#     transforms.Resize(256),\n",
    "#     transforms.CenterCrop(224),\n",
    "#     transforms.ToTensor(),\n",
    "#     transforms.Normalize(mean=[.5], std=[.5])\n",
    "# ])\n",
    "\n",
    "# # resnet50 preprocessing\n",
    "# x = preprocess(x)\n",
    "# plt.imshow(x[0], cmap='gray')\n",
    "# plt.show()"
   ]
  },
  {
   "cell_type": "code",
   "execution_count": null,
   "metadata": {},
   "outputs": [],
   "source": []
  }
 ],
 "metadata": {
  "kernelspec": {
   "display_name": "thesis",
   "language": "python",
   "name": "python3"
  },
  "language_info": {
   "codemirror_mode": {
    "name": "ipython",
    "version": 3
   },
   "file_extension": ".py",
   "mimetype": "text/x-python",
   "name": "python",
   "nbconvert_exporter": "python",
   "pygments_lexer": "ipython3",
   "version": "3.10.13"
  }
 },
 "nbformat": 4,
 "nbformat_minor": 2
}
