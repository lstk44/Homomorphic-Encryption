{
 "cells": [
  {
   "cell_type": "markdown",
   "metadata": {},
   "source": [
    "# Medical Image Classification\n",
    "\n",
    "**Company Use Case:**\n",
    "\n",
    "\n",
    "**Approach:**\n",
    "\n",
    "\n",
    "\n",
    "The following Notebook will show two approaches to do this with ConcreteML.\n",
    "\n",
    "**Dataset Information:**\n",
    "\n",
    "_Dataset  1:_\n",
    "\n",
    "<span style=\"color:yellow\">description</span>\n",
    "\n",
    "**Dataset Source:**\n",
    "\n",
    "https://medmnist.com/\n",
    "\n",
    "Dataset 1:\n",
    "\n",
    "https://github.com/logpai/loghub/blob/master/Android/Android_2k.log_structured.csv"
   ]
  },
  {
   "cell_type": "markdown",
   "metadata": {},
   "source": [
    "# Imports"
   ]
  },
  {
   "cell_type": "code",
   "execution_count": 1,
   "metadata": {},
   "outputs": [],
   "source": [
    "import numpy as np\n",
    "import pandas as pd\n",
    "import matplotlib.pyplot as plt\n",
    "from tqdm import tqdm\n",
    "\n",
    "# MedMNIST\n",
    "import medmnist\n",
    "\n",
    "# SciKit-Learn\n",
    "from sklearn.model_selection import train_test_split\n",
    "from sklearn.metrics import *\n",
    "\n",
    "# PyTorch\n",
    "import torch\n",
    "import torch.utils.data as data\n",
    "import torchvision.transforms as transforms\n",
    "from torch.utils.data import TensorDataset, DataLoader\n",
    "from torchvision.models import resnet50, vgg16\n",
    "from torchsummary import summary"
   ]
  },
  {
   "cell_type": "markdown",
   "metadata": {},
   "source": [
    "# Load Data"
   ]
  },
  {
   "cell_type": "code",
   "execution_count": 2,
   "metadata": {},
   "outputs": [],
   "source": [
    "dataset = 'PneumoniaMNIST'"
   ]
  },
  {
   "cell_type": "code",
   "execution_count": 3,
   "metadata": {},
   "outputs": [
    {
     "name": "stdout",
     "output_type": "stream",
     "text": [
      "Using downloaded and verified file: /home/lukas/.medmnist/pneumoniamnist.npz\n",
      "Using downloaded and verified file: /home/lukas/.medmnist/pneumoniamnist.npz\n",
      "Using downloaded and verified file: /home/lukas/.medmnist/pneumoniamnist.npz\n",
      "\n",
      " Dataset PneumoniaMNIST (pneumoniamnist)\n",
      "    Number of datapoints: 4708\n",
      "    Root location: /home/lukas/.medmnist\n",
      "    Split: train\n",
      "    Task: binary-class\n",
      "    Number of channels: 1\n",
      "    Meaning of labels: {'0': 'normal', '1': 'pneumonia'}\n",
      "    Number of samples: {'train': 4708, 'val': 524, 'test': 624}\n",
      "    Description: The PneumoniaMNIST is based on a prior dataset of 5,856 pediatric chest X-Ray images. The task is binary-class classification of pneumonia against normal. We split the source training set with a ratio of 9:1 into training and validation set and use its source validation set as the test set. The source images are gray-scale, and their sizes are (384−2,916)×(127−2,713). We center-crop the images and resize them into 1×28×28.\n",
      "    License: CC BY 4.0\n"
     ]
    }
   ],
   "source": [
    "DataClass = getattr(medmnist, dataset)\n",
    "\n",
    "# Preprocessing\n",
    "transform = transforms.Compose([\n",
    "    transforms.ToTensor(),\n",
    "    # transforms.Normalize(mean=[.5], std=[.5])\n",
    "])\n",
    "\n",
    "# download data\n",
    "train_dataset = DataClass(split='train', transform=transform, download=True)\n",
    "eval_dataset = DataClass(split='val', transform=transform, download=True)\n",
    "test_dataset = DataClass(split='test', transform=transform, download=True)\n",
    "print('\\n', train_dataset)\n",
    "\n",
    "# dataloader\n",
    "train_loader = data.DataLoader(dataset=train_dataset, batch_size=32, shuffle=True)\n",
    "eval_loader = data.DataLoader(dataset=eval_dataset, batch_size=32, shuffle=True)\n",
    "test_loader = data.DataLoader(dataset=test_dataset, batch_size=32, shuffle=True)"
   ]
  },
  {
   "cell_type": "code",
   "execution_count": 4,
   "metadata": {},
   "outputs": [
    {
     "name": "stdout",
     "output_type": "stream",
     "text": [
      "Numpy Data\n",
      "\n",
      "Samples:\t4708\n",
      "Channels:\t1\n",
      "Height:\t\t28\n",
      "Width:\t\t28\n"
     ]
    }
   ],
   "source": [
    "# train_dataloader to numpy/tensor array\n",
    "xtrain_np = np.concatenate([batch[0].numpy() for batch in train_loader], axis=0)\n",
    "ytrain_np = np.concatenate([batch[1].numpy() for batch in train_loader], axis=0)\n",
    "\n",
    "# eval_dataloader to numpy/tensor array\n",
    "xval_np = np.concatenate([batch[0].numpy() for batch in eval_loader], axis=0)\n",
    "yval_np = np.concatenate([batch[1].numpy() for batch in eval_loader], axis=0)\n",
    "\n",
    "# test_dataloader to numpy/tensor array\n",
    "xtest_np = np.concatenate([batch[0].numpy() for batch in test_loader], axis=0)\n",
    "ytest_np = np.concatenate([batch[1].numpy() for batch in test_loader], axis=0)\n",
    "\n",
    "print('Numpy Data\\n')\n",
    "print(f'Samples:\\t{xtrain_np.shape[0]}')\n",
    "print(f'Channels:\\t{xtrain_np.shape[1]}')\n",
    "print(f'Height:\\t\\t{xtrain_np.shape[2]}')\n",
    "print(f'Width:\\t\\t{xtrain_np.shape[3]}')"
   ]
  },
  {
   "cell_type": "code",
   "execution_count": 5,
   "metadata": {},
   "outputs": [],
   "source": [
    "# ResNet50 Feature Extraction\n",
    "\n",
    "def feature_extractor(X, model='resnet50'):\n",
    "    # duplicate channels to 3\n",
    "    data = np.repeat(X, 3, axis=1)\n",
    "    # convert to tensor\n",
    "    data = torch.tensor(data, dtype=torch.float)\n",
    "\n",
    "    if model == 'resnet50':\n",
    "        # load pretrained ResNet50\n",
    "        model = resnet50()\n",
    "    elif model == 'vgg16':\n",
    "        # load pretrained VGG16\n",
    "        model = vgg16()\n",
    "    # remove last layer\n",
    "    model = torch.nn.Sequential(*(list(model.children())[:-1]))\n",
    "    # add flatten layer\n",
    "    model.add_module('flatten', torch.nn.Flatten())\n",
    "    # set model to eval mode\n",
    "    model.eval()\n",
    "    # extract features\n",
    "    with torch.no_grad():\n",
    "        features = model(data).detach().numpy()\n",
    "    # to pandas dataframe\n",
    "    dataframe = pd.DataFrame(features)\n",
    "\n",
    "    return dataframe"
   ]
  },
  {
   "cell_type": "code",
   "execution_count": 6,
   "metadata": {},
   "outputs": [],
   "source": [
    "xtrain_res = feature_extractor(xtrain_np)\n",
    "xval_res = feature_extractor(xval_np)\n",
    "xtest_res = feature_extractor(xtest_np)"
   ]
  },
  {
   "cell_type": "code",
   "execution_count": 7,
   "metadata": {},
   "outputs": [
    {
     "data": {
      "text/plain": [
       "<sklearn.metrics._plot.confusion_matrix.ConfusionMatrixDisplay at 0x7fed0f3aee90>"
      ]
     },
     "execution_count": 7,
     "metadata": {},
     "output_type": "execute_result"
    },
    {
     "data": {
      "image/png": "[encoded data removed]",
      "text/plain": [
       "<Figure size 640x480 with 2 Axes>"
      ]
     },
     "metadata": {},
     "output_type": "display_data"
    }
   ],
   "source": [
    "from xgboost.sklearn import XGBClassifier\n",
    "\n",
    "xgb = XGBClassifier().fit(xtrain_res, ytrain_np)\n",
    "y_pred = xgb.predict(xtest_res)\n",
    "\n",
    "ConfusionMatrixDisplay(confusion_matrix(ytest_np, y_pred)).plot()"
   ]
  },
  {
   "cell_type": "code",
   "execution_count": 8,
   "metadata": {},
   "outputs": [
    {
     "ename": "RuntimeError",
     "evalue": "Expected 3D (unbatched) or 4D (batched) input to conv2d, but got input of size: [4708, 3]",
     "output_type": "error",
     "traceback": [
      "\u001b[0;31m---------------------------------------------------------------------------\u001b[0m",
      "\u001b[0;31mRuntimeError\u001b[0m                              Traceback (most recent call last)",
      "\u001b[1;32m/home/lukas/ThesisWSL/Thesis/UCImageClassification/ImageClassification.ipynb Cell 11\u001b[0m line \u001b[0;36m1\n\u001b[0;32m----> <a href='vscode-notebook-cell://wsl%2Bubuntu/home/lukas/ThesisWSL/Thesis/UCImageClassification/ImageClassification.ipynb#Y201sdnNjb2RlLXJlbW90ZQ%3D%3D?line=0'>1</a>\u001b[0m test \u001b[39m=\u001b[39m feature_extractor(xtrain_res[[\u001b[39m3\u001b[39;49m]])\n",
      "\u001b[1;32m/home/lukas/ThesisWSL/Thesis/UCImageClassification/ImageClassification.ipynb Cell 11\u001b[0m line \u001b[0;36m2\n\u001b[1;32m     <a href='vscode-notebook-cell://wsl%2Bubuntu/home/lukas/ThesisWSL/Thesis/UCImageClassification/ImageClassification.ipynb#Y201sdnNjb2RlLXJlbW90ZQ%3D%3D?line=20'>21</a>\u001b[0m \u001b[39m# extract features\u001b[39;00m\n\u001b[1;32m     <a href='vscode-notebook-cell://wsl%2Bubuntu/home/lukas/ThesisWSL/Thesis/UCImageClassification/ImageClassification.ipynb#Y201sdnNjb2RlLXJlbW90ZQ%3D%3D?line=21'>22</a>\u001b[0m \u001b[39mwith\u001b[39;00m torch\u001b[39m.\u001b[39mno_grad():\n\u001b[0;32m---> <a href='vscode-notebook-cell://wsl%2Bubuntu/home/lukas/ThesisWSL/Thesis/UCImageClassification/ImageClassification.ipynb#Y201sdnNjb2RlLXJlbW90ZQ%3D%3D?line=22'>23</a>\u001b[0m     features \u001b[39m=\u001b[39m model(data)\u001b[39m.\u001b[39mdetach()\u001b[39m.\u001b[39mnumpy()\n\u001b[1;32m     <a href='vscode-notebook-cell://wsl%2Bubuntu/home/lukas/ThesisWSL/Thesis/UCImageClassification/ImageClassification.ipynb#Y201sdnNjb2RlLXJlbW90ZQ%3D%3D?line=23'>24</a>\u001b[0m \u001b[39m# to pandas dataframe\u001b[39;00m\n\u001b[1;32m     <a href='vscode-notebook-cell://wsl%2Bubuntu/home/lukas/ThesisWSL/Thesis/UCImageClassification/ImageClassification.ipynb#Y201sdnNjb2RlLXJlbW90ZQ%3D%3D?line=24'>25</a>\u001b[0m dataframe \u001b[39m=\u001b[39m pd\u001b[39m.\u001b[39mDataFrame(features)\n",
      "File \u001b[0;32m~/.local/lib/python3.10/site-packages/torch/nn/modules/module.py:1518\u001b[0m, in \u001b[0;36mModule._wrapped_call_impl\u001b[0;34m(self, *args, **kwargs)\u001b[0m\n\u001b[1;32m   1516\u001b[0m     \u001b[39mreturn\u001b[39;00m \u001b[39mself\u001b[39m\u001b[39m.\u001b[39m_compiled_call_impl(\u001b[39m*\u001b[39margs, \u001b[39m*\u001b[39m\u001b[39m*\u001b[39mkwargs)  \u001b[39m# type: ignore[misc]\u001b[39;00m\n\u001b[1;32m   1517\u001b[0m \u001b[39melse\u001b[39;00m:\n\u001b[0;32m-> 1518\u001b[0m     \u001b[39mreturn\u001b[39;00m \u001b[39mself\u001b[39;49m\u001b[39m.\u001b[39;49m_call_impl(\u001b[39m*\u001b[39;49margs, \u001b[39m*\u001b[39;49m\u001b[39m*\u001b[39;49mkwargs)\n",
      "File \u001b[0;32m~/.local/lib/python3.10/site-packages/torch/nn/modules/module.py:1527\u001b[0m, in \u001b[0;36mModule._call_impl\u001b[0;34m(self, *args, **kwargs)\u001b[0m\n\u001b[1;32m   1522\u001b[0m \u001b[39m# If we don't have any hooks, we want to skip the rest of the logic in\u001b[39;00m\n\u001b[1;32m   1523\u001b[0m \u001b[39m# this function, and just call forward.\u001b[39;00m\n\u001b[1;32m   1524\u001b[0m \u001b[39mif\u001b[39;00m \u001b[39mnot\u001b[39;00m (\u001b[39mself\u001b[39m\u001b[39m.\u001b[39m_backward_hooks \u001b[39mor\u001b[39;00m \u001b[39mself\u001b[39m\u001b[39m.\u001b[39m_backward_pre_hooks \u001b[39mor\u001b[39;00m \u001b[39mself\u001b[39m\u001b[39m.\u001b[39m_forward_hooks \u001b[39mor\u001b[39;00m \u001b[39mself\u001b[39m\u001b[39m.\u001b[39m_forward_pre_hooks\n\u001b[1;32m   1525\u001b[0m         \u001b[39mor\u001b[39;00m _global_backward_pre_hooks \u001b[39mor\u001b[39;00m _global_backward_hooks\n\u001b[1;32m   1526\u001b[0m         \u001b[39mor\u001b[39;00m _global_forward_hooks \u001b[39mor\u001b[39;00m _global_forward_pre_hooks):\n\u001b[0;32m-> 1527\u001b[0m     \u001b[39mreturn\u001b[39;00m forward_call(\u001b[39m*\u001b[39;49margs, \u001b[39m*\u001b[39;49m\u001b[39m*\u001b[39;49mkwargs)\n\u001b[1;32m   1529\u001b[0m \u001b[39mtry\u001b[39;00m:\n\u001b[1;32m   1530\u001b[0m     result \u001b[39m=\u001b[39m \u001b[39mNone\u001b[39;00m\n",
      "File \u001b[0;32m~/.local/lib/python3.10/site-packages/torch/nn/modules/container.py:215\u001b[0m, in \u001b[0;36mSequential.forward\u001b[0;34m(self, input)\u001b[0m\n\u001b[1;32m    213\u001b[0m \u001b[39mdef\u001b[39;00m \u001b[39mforward\u001b[39m(\u001b[39mself\u001b[39m, \u001b[39minput\u001b[39m):\n\u001b[1;32m    214\u001b[0m     \u001b[39mfor\u001b[39;00m module \u001b[39min\u001b[39;00m \u001b[39mself\u001b[39m:\n\u001b[0;32m--> 215\u001b[0m         \u001b[39minput\u001b[39m \u001b[39m=\u001b[39m module(\u001b[39minput\u001b[39;49m)\n\u001b[1;32m    216\u001b[0m     \u001b[39mreturn\u001b[39;00m \u001b[39minput\u001b[39m\n",
      "File \u001b[0;32m~/.local/lib/python3.10/site-packages/torch/nn/modules/module.py:1518\u001b[0m, in \u001b[0;36mModule._wrapped_call_impl\u001b[0;34m(self, *args, **kwargs)\u001b[0m\n\u001b[1;32m   1516\u001b[0m     \u001b[39mreturn\u001b[39;00m \u001b[39mself\u001b[39m\u001b[39m.\u001b[39m_compiled_call_impl(\u001b[39m*\u001b[39margs, \u001b[39m*\u001b[39m\u001b[39m*\u001b[39mkwargs)  \u001b[39m# type: ignore[misc]\u001b[39;00m\n\u001b[1;32m   1517\u001b[0m \u001b[39melse\u001b[39;00m:\n\u001b[0;32m-> 1518\u001b[0m     \u001b[39mreturn\u001b[39;00m \u001b[39mself\u001b[39;49m\u001b[39m.\u001b[39;49m_call_impl(\u001b[39m*\u001b[39;49margs, \u001b[39m*\u001b[39;49m\u001b[39m*\u001b[39;49mkwargs)\n",
      "File \u001b[0;32m~/.local/lib/python3.10/site-packages/torch/nn/modules/module.py:1527\u001b[0m, in \u001b[0;36mModule._call_impl\u001b[0;34m(self, *args, **kwargs)\u001b[0m\n\u001b[1;32m   1522\u001b[0m \u001b[39m# If we don't have any hooks, we want to skip the rest of the logic in\u001b[39;00m\n\u001b[1;32m   1523\u001b[0m \u001b[39m# this function, and just call forward.\u001b[39;00m\n\u001b[1;32m   1524\u001b[0m \u001b[39mif\u001b[39;00m \u001b[39mnot\u001b[39;00m (\u001b[39mself\u001b[39m\u001b[39m.\u001b[39m_backward_hooks \u001b[39mor\u001b[39;00m \u001b[39mself\u001b[39m\u001b[39m.\u001b[39m_backward_pre_hooks \u001b[39mor\u001b[39;00m \u001b[39mself\u001b[39m\u001b[39m.\u001b[39m_forward_hooks \u001b[39mor\u001b[39;00m \u001b[39mself\u001b[39m\u001b[39m.\u001b[39m_forward_pre_hooks\n\u001b[1;32m   1525\u001b[0m         \u001b[39mor\u001b[39;00m _global_backward_pre_hooks \u001b[39mor\u001b[39;00m _global_backward_hooks\n\u001b[1;32m   1526\u001b[0m         \u001b[39mor\u001b[39;00m _global_forward_hooks \u001b[39mor\u001b[39;00m _global_forward_pre_hooks):\n\u001b[0;32m-> 1527\u001b[0m     \u001b[39mreturn\u001b[39;00m forward_call(\u001b[39m*\u001b[39;49margs, \u001b[39m*\u001b[39;49m\u001b[39m*\u001b[39;49mkwargs)\n\u001b[1;32m   1529\u001b[0m \u001b[39mtry\u001b[39;00m:\n\u001b[1;32m   1530\u001b[0m     result \u001b[39m=\u001b[39m \u001b[39mNone\u001b[39;00m\n",
      "File \u001b[0;32m~/.local/lib/python3.10/site-packages/torch/nn/modules/conv.py:460\u001b[0m, in \u001b[0;36mConv2d.forward\u001b[0;34m(self, input)\u001b[0m\n\u001b[1;32m    459\u001b[0m \u001b[39mdef\u001b[39;00m \u001b[39mforward\u001b[39m(\u001b[39mself\u001b[39m, \u001b[39minput\u001b[39m: Tensor) \u001b[39m-\u001b[39m\u001b[39m>\u001b[39m Tensor:\n\u001b[0;32m--> 460\u001b[0m     \u001b[39mreturn\u001b[39;00m \u001b[39mself\u001b[39;49m\u001b[39m.\u001b[39;49m_conv_forward(\u001b[39minput\u001b[39;49m, \u001b[39mself\u001b[39;49m\u001b[39m.\u001b[39;49mweight, \u001b[39mself\u001b[39;49m\u001b[39m.\u001b[39;49mbias)\n",
      "File \u001b[0;32m~/.local/lib/python3.10/site-packages/torch/nn/modules/conv.py:456\u001b[0m, in \u001b[0;36mConv2d._conv_forward\u001b[0;34m(self, input, weight, bias)\u001b[0m\n\u001b[1;32m    452\u001b[0m \u001b[39mif\u001b[39;00m \u001b[39mself\u001b[39m\u001b[39m.\u001b[39mpadding_mode \u001b[39m!=\u001b[39m \u001b[39m'\u001b[39m\u001b[39mzeros\u001b[39m\u001b[39m'\u001b[39m:\n\u001b[1;32m    453\u001b[0m     \u001b[39mreturn\u001b[39;00m F\u001b[39m.\u001b[39mconv2d(F\u001b[39m.\u001b[39mpad(\u001b[39minput\u001b[39m, \u001b[39mself\u001b[39m\u001b[39m.\u001b[39m_reversed_padding_repeated_twice, mode\u001b[39m=\u001b[39m\u001b[39mself\u001b[39m\u001b[39m.\u001b[39mpadding_mode),\n\u001b[1;32m    454\u001b[0m                     weight, bias, \u001b[39mself\u001b[39m\u001b[39m.\u001b[39mstride,\n\u001b[1;32m    455\u001b[0m                     _pair(\u001b[39m0\u001b[39m), \u001b[39mself\u001b[39m\u001b[39m.\u001b[39mdilation, \u001b[39mself\u001b[39m\u001b[39m.\u001b[39mgroups)\n\u001b[0;32m--> 456\u001b[0m \u001b[39mreturn\u001b[39;00m F\u001b[39m.\u001b[39;49mconv2d(\u001b[39minput\u001b[39;49m, weight, bias, \u001b[39mself\u001b[39;49m\u001b[39m.\u001b[39;49mstride,\n\u001b[1;32m    457\u001b[0m                 \u001b[39mself\u001b[39;49m\u001b[39m.\u001b[39;49mpadding, \u001b[39mself\u001b[39;49m\u001b[39m.\u001b[39;49mdilation, \u001b[39mself\u001b[39;49m\u001b[39m.\u001b[39;49mgroups)\n",
      "\u001b[0;31mRuntimeError\u001b[0m: Expected 3D (unbatched) or 4D (batched) input to conv2d, but got input of size: [4708, 3]"
     ]
    }
   ],
   "source": [
    "test = feature_extractor(xtrain_res[[3]])"
   ]
  },
  {
   "cell_type": "code",
   "execution_count": null,
   "metadata": {},
   "outputs": [],
   "source": [
    "# xtrain_tab = feature_extractor(xtrain_res)\n",
    "xval_tab = feature_extractor(xval_res)\n",
    "# xtest_tab = feature_extractor(xtest_res)"
   ]
  },
  {
   "cell_type": "code",
   "execution_count": null,
   "metadata": {},
   "outputs": [],
   "source": [
    "# # display three sample from each class\n",
    "# fig, ax = plt.subplots(2, 3, figsize=(10, 5))\n",
    "\n",
    "# # get one sample from each class\n",
    "# normal, pneumonia = [], []\n",
    "# for images, labels in train_loader:\n",
    "#     while len(normal) < 3 or len(pneumonia) < 3:\n",
    "#         for i in range(len(labels)):\n",
    "#             if labels[i] == 0 and len(normal) < 3:\n",
    "#                 normal.append(images[i])\n",
    "#             elif labels[i] == 1 and len(pneumonia) < 3:\n",
    "#                 pneumonia.append(images[i])\n",
    "\n",
    "# # display images\n",
    "# for i in range(3):\n",
    "#     ax[0, i].imshow(normal[i].squeeze(), cmap='gray')\n",
    "#     ax[0, i].set_title('Normal')\n",
    "#     ax[0, i].axis('off')\n",
    "#     ax[1, i].imshow(pneumonia[i].squeeze(), cmap='gray')\n",
    "#     ax[1, i].set_title('Pneumonia')\n",
    "#     ax[1, i].axis('off')"
   ]
  },
  {
   "cell_type": "code",
   "execution_count": null,
   "metadata": {},
   "outputs": [],
   "source": [
    "# train_dataloader to numpy/tensor array\n",
    "train_images, train_labels = [], []\n",
    "\n",
    "for batch in train_loader:\n",
    "    images, labels = batch\n",
    "    train_images.append(images.numpy())\n",
    "    train_labels.append(labels.numpy())\n",
    "\n",
    "xtrain_np, ytrain_np = np.concatenate(train_images, axis=0), np.concatenate(train_labels, axis=0)\n",
    "xtrain_tensor, ytrain_tensor = torch.FloatTensor(xtrain_np), torch.FloatTensor(ytrain_np)\n",
    "\n",
    "# eval_dataloader to numpy/tensor array\n",
    "eval_images, eval_labels = [], []\n",
    "\n",
    "for batch in eval_loader:\n",
    "    images, labels = batch\n",
    "    eval_images.append(images.numpy())\n",
    "    eval_labels.append(labels.numpy())\n",
    "\n",
    "xval_np, yval_np = np.concatenate(eval_images, axis=0), np.concatenate(eval_labels, axis=0)\n",
    "xval_tensor, yval_tensor = torch.FloatTensor(xval_np), torch.FloatTensor(yval_np)\n",
    "\n",
    "# test_dataloader to numpy/tensor array\n",
    "test_images, test_labels = [], []\n",
    "\n",
    "for batch in test_loader:\n",
    "    images, labels = batch\n",
    "    test_images.append(images.numpy())\n",
    "    test_labels.append(labels.numpy())\n",
    "\n",
    "xtest_np, ytest_np = np.concatenate(test_images, axis=0), np.concatenate(test_labels, axis=0)\n",
    "xtest_tensor, ytest_tensor = torch.FloatTensor(xtest_np), torch.FloatTensor(ytest_np)"
   ]
  },
  {
   "cell_type": "code",
   "execution_count": null,
   "metadata": {},
   "outputs": [],
   "source": [
    "print(f'Samples:\\t{xtrain_np.shape[0]}')\n",
    "print(f'Channels:\\t{xtrain_np.shape[1]}')\n",
    "print(f'Height:\\t\\t{xtrain_np.shape[2]}')\n",
    "print(f'Width:\\t\\t{xtrain_np.shape[3]}')"
   ]
  },
  {
   "cell_type": "code",
   "execution_count": null,
   "metadata": {},
   "outputs": [],
   "source": [
    "model = torch.nn.Sequential(\n",
    "      torch.nn.Conv2d(in_channels=1, out_channels=1, kernel_size=3),\n",
    "      torch.nn.ReLU(),\n",
    "      torch.nn.AvgPool2d(kernel_size=2, stride=2),\n",
    "      torch.nn.Flatten(),\n",
    "      torch.nn.Linear(in_features=169, out_features=1, bias=True),\n",
    "      torch.nn.Sigmoid()\n",
    ")\n",
    "\n",
    "summary(model, input_size=(1, 28, 28))"
   ]
  },
  {
   "cell_type": "code",
   "execution_count": null,
   "metadata": {},
   "outputs": [],
   "source": [
    "epochs = 40\n",
    "criterion = torch.nn.BCELoss()\n",
    "optimizer = torch.optim.Adam(model.parameters(), lr=0.0001, weight_decay=0.0001)\n",
    "\n",
    "train_losses = []\n",
    "val_losses = []\n",
    "train_accuracies = []\n",
    "val_accuracies = []\n",
    "\n",
    "for epoch in tqdm(range(epochs)):\n",
    "  # training\n",
    "  model.train()\n",
    "  for i in range(0, len(xtrain_tensor), 1):\n",
    "    inputs = xtrain_tensor[i:i+1]\n",
    "    labels = ytrain_tensor[i:i+1]\n",
    "\n",
    "    optimizer.zero_grad()\n",
    "    outputs = model(inputs)\n",
    "    loss = criterion(outputs, labels)\n",
    "    loss.backward()\n",
    "    optimizer.step()\n",
    "\n",
    "  # log metrics\n",
    "  model.eval()\n",
    "  with torch.no_grad():\n",
    "    train_outputs = model(xtrain_tensor)\n",
    "    train_loss = criterion(train_outputs, ytrain_tensor)\n",
    "    predicted = torch.round(train_outputs)\n",
    "    train_accuracy = accuracy_score(predicted.detach().numpy(), ytrain_tensor.detach().numpy())*100\n",
    "\n",
    "    val_outputs = model(xval_tensor)\n",
    "    val_loss = criterion(val_outputs, yval_tensor)\n",
    "    predicted = torch.round(val_outputs)\n",
    "    val_accuracy = accuracy_score(predicted.detach().numpy(), yval_tensor.detach().numpy())*100\n",
    "\n",
    "  train_losses.append(train_loss.item())\n",
    "  val_losses.append(val_loss.item())\n",
    "  train_accuracies.append(train_accuracy)\n",
    "  val_accuracies.append(val_accuracy)\n",
    "\n",
    "# Plotting\n",
    "fig, ax = plt.subplots(1, 2, figsize=(10, 5))\n",
    "ax[0].plot(train_losses, label='Training Loss')\n",
    "ax[0].plot(val_losses, label='Validation Loss')\n",
    "ax[0].set_title('Loss')\n",
    "ax[0].legend()\n",
    "ax[1].plot(train_accuracies, label='Training Accuracy')\n",
    "ax[1].plot(val_accuracies, label='Validation Accuracy')\n",
    "ax[1].set_title('Accuracy')\n",
    "ax[1].legend()\n",
    "plt.show()"
   ]
  },
  {
   "cell_type": "code",
   "execution_count": null,
   "metadata": {},
   "outputs": [],
   "source": [
    "# evaluate\n",
    "with torch.no_grad():\n",
    "  correct = 0\n",
    "  total = 0\n",
    "  for i in range(0, len(xtest_tensor), 1):\n",
    "    inputs = xtest_tensor[i:i+1]\n",
    "    labels = ytest_tensor[i:i+1]\n",
    "\n",
    "    outputs = model(inputs)\n",
    "    predicted = torch.round(outputs)\n",
    "\n",
    "    total += labels.size(0)\n",
    "    correct += (predicted == labels).sum().item()\n",
    "\n",
    "  print(f'Accuracy: {100 * correct / total:.2f}%')"
   ]
  },
  {
   "cell_type": "code",
   "execution_count": null,
   "metadata": {},
   "outputs": [],
   "source": []
  }
 ],
 "metadata": {
  "kernelspec": {
   "display_name": "thesis",
   "language": "python",
   "name": "python3"
  },
  "language_info": {
   "codemirror_mode": {
    "name": "ipython",
    "version": 3
   },
   "file_extension": ".py",
   "mimetype": "text/x-python",
   "name": "python",
   "nbconvert_exporter": "python",
   "pygments_lexer": "ipython3",
   "version": "3.10.13"
  }
 },
 "nbformat": 4,
 "nbformat_minor": 2
}
