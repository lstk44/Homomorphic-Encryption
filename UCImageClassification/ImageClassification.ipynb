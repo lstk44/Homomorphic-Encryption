{
 "cells": [
  {
   "cell_type": "markdown",
   "metadata": {},
   "source": [
    "# Medical Image Classification\n",
    "\n",
    "**Company Use Case:**\n",
    "\n",
    "**Approach:**\n",
    "\n",
    "The following Notebook will show two approaches to do this with ConcreteML.\n",
    "\n",
    "**Dataset Source:**\n",
    "\n",
    "The data used is provided by MedMNIST v2, a comprehensive collection of standardized biomedical images. It encompasses 12 datasets for 2D and 6 for 3D images, pre-processed into 28 x 28 (2D) or 28 x 28 x 28 (3D) with corresponding classification labels. With 708,069 2D images and 9,998 3D images, it supports various classification tasks, from binary/multi-class to ordinal regression and multi-label, catering to biomedical image analysis, computer vision, and machine learning research and education.\n",
    "\n",
    "https://medmnist.com/\n",
    "\n",
    "**Dataset  1:**\n",
    "\n",
    "_OCTMNIST_\n",
    "\n",
    "MedMNIST Description:\n",
    "\n",
    "The OCTMNIST is based on a prior dataset of 109,309 valid optical coherence tomography (OCT) images for retinal diseases. The dataset is comprised of 4 diagnosis categories, leading to a multi-class classification task. We split the source training set with a ratio of 9:1 into training and validation set, and use its source validation set as the test set. The source images are gray-scale, and their sizes are (384−1,536)×(277−512). We center-crop the images and resize them into 1×28×28.\n",
    "\n",
    "https://zenodo.org/records/6496656/files/octmnist.npz?download=1\n",
    "\n",
    "**Dataset 2:**\n",
    "\n",
    "_PneumoniaMNIST_\n",
    "\n",
    "MedMNIST Description:\n",
    "\n",
    "The PneumoniaMNIST is based on a prior dataset of 5,856 pediatric chest X-Ray images. The task is binary-class classification of pneumonia against normal. We split the source training set with a ratio of 9:1 into training and validation set and use its source validation set as the test set. The source images are gray-scale, and their sizes are (384−2,916)×(127−2,713). We center-crop the images and resize them into 1×28×28.\n",
    "\n",
    "https://zenodo.org/records/6496656/files/pneumoniamnist.npz?download=1\n",
    "\n",
    "**Dataset 2:**\n",
    "\n",
    "<span style=\"color:red\">_NAME_</span> (Maybe BloodMNIST)\n",
    "\n",
    "MedMNIST Description:\n",
    "\n",
    "<span style=\"color:red\">TEXT</span>"
   ]
  },
  {
   "cell_type": "markdown",
   "metadata": {},
   "source": [
    "# FHE Mode"
   ]
  },
  {
   "cell_type": "code",
   "execution_count": 1,
   "metadata": {},
   "outputs": [],
   "source": [
    "mode = 'simulate'\n",
    "\n",
    "# mode = 'execute'"
   ]
  },
  {
   "cell_type": "markdown",
   "metadata": {},
   "source": [
    "# Imports"
   ]
  },
  {
   "cell_type": "code",
   "execution_count": 2,
   "metadata": {},
   "outputs": [],
   "source": [
    "import os\n",
    "import time\n",
    "import numpy as np\n",
    "import pandas as pd\n",
    "import matplotlib.pyplot as plt\n",
    "from tqdm import tqdm\n",
    "from IPython.display import clear_output\n",
    "\n",
    "# MedMNIST\n",
    "import medmnist\n",
    "\n",
    "# SciKit-Learn\n",
    "from sklearn.metrics import *\n",
    "\n",
    "# XGBoost\n",
    "from xgboost.sklearn import XGBClassifier\n",
    "\n",
    "# PyTorch\n",
    "import torch\n",
    "import torchvision.transforms as transforms\n",
    "from torchvision.models import resnet50\n",
    "from torchsummary import summary\n",
    "\n",
    "# ConcreteML\n",
    "from concrete.ml.sklearn import NeuralNetClassifier"
   ]
  },
  {
   "cell_type": "code",
   "execution_count": 3,
   "metadata": {},
   "outputs": [
    {
     "data": {
      "text/plain": [
       "<torch._C.Generator at 0x7f126cc72d10>"
      ]
     },
     "execution_count": 3,
     "metadata": {},
     "output_type": "execute_result"
    }
   ],
   "source": [
    "# set random seed\n",
    "np.random.seed(1)\n",
    "torch.manual_seed(1)"
   ]
  },
  {
   "cell_type": "markdown",
   "metadata": {},
   "source": [
    "# General Functions"
   ]
  },
  {
   "cell_type": "code",
   "execution_count": 4,
   "metadata": {},
   "outputs": [],
   "source": [
    "###############################################################\n",
    "# Logging (KICK AFTER BEING DONE)\n",
    "###############################################################\n",
    "\n",
    "def log_parameters(dataset, epochs, learning_rate, weight_decay, model, train_losses, train_accuracies, val_losses, val_accuracies):\n",
    "    if os.path.isfile(f'{dataset}_Experiments.csv'):\n",
    "        df = pd.read_csv(f'{dataset}_Experiments.csv')\n",
    "        df = df.drop_duplicates()\n",
    "        # append new row\n",
    "        df = pd.concat([df, pd.DataFrame({\n",
    "            'epochs': [epochs],\n",
    "            'learning_rate': [learning_rate],\n",
    "            'weight_decay': [weight_decay],\n",
    "            'model': [str(model)],\n",
    "            'final_train_loss': [train_losses[-1]],\n",
    "            'final_train_accuracy': [train_accuracies[-1]],\n",
    "            'final_val_loss': [val_losses[-1]],\n",
    "            'final_val_accuracy': [val_accuracies[-1]]\n",
    "            })])\n",
    "        # save csv\n",
    "        df.to_csv(f'{dataset}_Experiments.csv', index=False)\n",
    "\n",
    "    else:\n",
    "        df = pd.DataFrame({\n",
    "        'epochs': [epochs],\n",
    "        'learning_rate': [learning_rate],\n",
    "        'weight_decay': [weight_decay],\n",
    "        'model': [str(model)],\n",
    "        'final_train_loss': [train_losses[-1]],\n",
    "        'final_train_accuracy': [train_accuracies[-1]],\n",
    "        'final_val_loss': [val_losses[-1]],\n",
    "        'final_val_accuracy': [val_accuracies[-1]]\n",
    "        })\n",
    "        # save csv\n",
    "        df.to_csv(f'{dataset}_Experiments.csv', index=False)\n",
    "    \n",
    "    return 'Parameters Logged!'\n",
    "\n",
    "###############################################################\n",
    "# Load Data\n",
    "###############################################################\n",
    "\n",
    "def load_data(dataset):\n",
    "\n",
    "    '''\n",
    "    Load data from MedMNIST\n",
    "\n",
    "    Input:\n",
    "        dataset (str): name of dataset\n",
    "\n",
    "    Output:\n",
    "        X_grayscale (tuple): (xtrain, xval, xtest) grayscale images\n",
    "        X_rgb (tuple): (xtrain, xval, xtest) rgb images\n",
    "        y (tuple): (ytrain, yval, ytest) labels\n",
    "    '''\n",
    "\n",
    "    # initialize DataClass\n",
    "    DataClass = getattr(medmnist, dataset)\n",
    "    # download data\n",
    "    train_dataset = DataClass(split='train',download=True)\n",
    "    eval_dataset = DataClass(split='val', download=True)\n",
    "    test_dataset = DataClass(split='test', download=True)\n",
    "    # to numpy array\n",
    "    xtrain, ytrain = train_dataset.imgs, train_dataset.labels\n",
    "    xval, yval = eval_dataset.imgs, eval_dataset.labels\n",
    "    xtest, ytest = test_dataset.imgs, test_dataset.labels\n",
    "    # expand dimension (grayscale)\n",
    "    # (channels=1, height=28, width=28)\n",
    "    xtrain_gray = np.expand_dims(xtrain, axis=1)\n",
    "    xval_gray = np.expand_dims(xval, axis=1)\n",
    "    xtest_gray = np.expand_dims(xtest, axis=1)\n",
    "    # expand dimension (rgb) - needed for pretrained models\n",
    "    # (channels=3, height=28, width=28)\n",
    "    xtrain_rgb = np.repeat(xtrain_gray, 3, axis=1)\n",
    "    xval_rgb = np.repeat(xval_gray, 3, axis=1)\n",
    "    xtest_rgb = np.repeat(xtest_gray, 3, axis=1)\n",
    "\n",
    "    X_grayscale = (xtrain_gray, xval_gray, xtest_gray)\n",
    "    X_rgb = (xtrain_rgb, xval_rgb, xtest_rgb)\n",
    "    y = (ytrain, yval, ytest)\n",
    "\n",
    "    clear_output()\n",
    "\n",
    "    return X_grayscale, X_rgb, y\n",
    "\n",
    "################################################################################\n",
    "# Plot Classification Metrics\n",
    "################################################################################\n",
    "\n",
    "def plot_classification_metrics(\n",
    "    y_true: np.array,\n",
    "    y_pred: np.array,\n",
    "    plot_title: str = None\n",
    "    ):\n",
    "\n",
    "    '''\n",
    "    Plots Classification Metrics\n",
    "\n",
    "    Input:\n",
    "      y_true = ground truth labels\n",
    "      y_pred = prediction labels\n",
    "      plot_title = title for results plot (optional)\n",
    "    '''\n",
    "\n",
    "    fig, ax = plt.subplots(2, 1, figsize=(5, 5))\n",
    "    ax = ax.flatten()\n",
    "\n",
    "    accuracy = round(accuracy_score(y_true, y_pred),2)\n",
    "    precision = round(precision_score(y_true, y_pred),2)\n",
    "    recall = round(recall_score(y_true, y_pred),2)\n",
    "    f1 = round(f1_score(y_true, y_pred),2)\n",
    "    roc_auc = round(roc_auc_score(y_true, y_pred), 2)\n",
    "\n",
    "    # barchart of metrics for each classifier\n",
    "    ax[0].bar(['Accuracy', 'Precision', 'Recall', 'F1', 'RocAuc'], [accuracy, precision, recall, f1, roc_auc])\n",
    "    ax[0].set_title('Classifier Metrics')\n",
    "    ax[0].set_ylim(0,1)\n",
    "    ax[0].bar_label(ax[0].containers[0], label_type='center')\n",
    "\n",
    "    # confusion matrix for each classifier\n",
    "    cm = confusion_matrix(y_true, y_pred)\n",
    "    ConfusionMatrixDisplay(cm).plot(ax=ax[1], cmap='Blues', colorbar=False)\n",
    "    ax[1].set_title('Classifier Confusion Matrix')\n",
    "\n",
    "    plt.suptitle(plot_title)\n",
    "    plt.tight_layout()\n",
    "\n",
    "    plt.show()"
   ]
  },
  {
   "cell_type": "markdown",
   "metadata": {},
   "source": [
    "# Load Data"
   ]
  },
  {
   "cell_type": "code",
   "execution_count": 5,
   "metadata": {},
   "outputs": [],
   "source": [
    "dataset = 'PneumoniaMNIST'"
   ]
  },
  {
   "cell_type": "code",
   "execution_count": 6,
   "metadata": {},
   "outputs": [],
   "source": [
    "data = load_data(dataset=dataset)\n",
    "\n",
    "# grayscale images (channels=1)\n",
    "xtrain_gray, xval_gray, xtest_gray = data[0]\n",
    "# rgb images (channels=3)\n",
    "xtrain_rgb, xval_rgb, xtest_rgb = data[1]\n",
    "# labels\n",
    "ytrain, yval, ytest = data[2]"
   ]
  },
  {
   "cell_type": "code",
   "execution_count": 7,
   "metadata": {},
   "outputs": [
    {
     "name": "stdout",
     "output_type": "stream",
     "text": [
      "Grayscale Shape: (4708, 1, 28, 28)\n",
      "RGB Shape: (4708, 3, 28, 28)\n"
     ]
    }
   ],
   "source": [
    "print(f'Grayscale Shape: {xtrain_gray.shape}')\n",
    "print(f'RGB Shape: {xtrain_rgb.shape}')"
   ]
  },
  {
   "cell_type": "code",
   "execution_count": 8,
   "metadata": {},
   "outputs": [
    {
     "data": {
      "image/png": "[encoded data removed]",
      "text/plain": [
       "<Figure size 1000x500 with 2 Axes>"
      ]
     },
     "metadata": {},
     "output_type": "display_data"
    }
   ],
   "source": [
    "# plot sample images of each class\n",
    "n_classes = len(np.unique(ytrain))\n",
    "\n",
    "fig, ax = plt.subplots(nrows=1, ncols=n_classes, figsize=(10, 5))\n",
    "for i in range(n_classes):\n",
    "    ax[i].imshow(xtrain_gray[ytrain.flatten()==i][0][0], cmap='gray')\n",
    "    ax[i].set_title(f'Class {i}')\n",
    "    ax[i].axis('off')\n",
    "fig.suptitle(dataset)\n",
    "plt.show()"
   ]
  },
  {
   "cell_type": "markdown",
   "metadata": {},
   "source": [
    "# Preprocessing"
   ]
  },
  {
   "cell_type": "code",
   "execution_count": 9,
   "metadata": {},
   "outputs": [],
   "source": [
    "# normalize grayscale images for generic CNN\n",
    "xtrain_gray= xtrain_gray / 255\n",
    "xval_gray = xval_gray / 255\n",
    "xtest_gray = xtest_gray / 255"
   ]
  },
  {
   "cell_type": "markdown",
   "metadata": {},
   "source": [
    "# Modelling"
   ]
  },
  {
   "cell_type": "markdown",
   "metadata": {},
   "source": [
    "## Approach 1: Convolutional Neural Network"
   ]
  },
  {
   "cell_type": "markdown",
   "metadata": {},
   "source": [
    "### PyTorch"
   ]
  },
  {
   "cell_type": "code",
   "execution_count": 10,
   "metadata": {},
   "outputs": [],
   "source": [
    "class TorchCNN():\n",
    "    def __init__(self, model):\n",
    "        self.model = model\n",
    "        self.log = {\n",
    "            'train': 0,\n",
    "            'evaluate_total': None,\n",
    "            'evaluate_sample': None\n",
    "        }\n",
    "\n",
    "    def train(self, x_train, y_train, x_val, y_val, epochs=30, learning_rate=0.0001, weight_decay=0.0001, plot=True):\n",
    "        # get number of classes\n",
    "        n_classes = len(np.unique(y_train))\n",
    "        # data to tensor\n",
    "        x_train, y_train = torch.tensor(x_train, dtype=torch.float), torch.tensor(y_train, dtype=torch.float)\n",
    "        x_val, y_val = torch.tensor(x_val, dtype=torch.float), torch.tensor(y_val, dtype=torch.float)\n",
    "        # criterion\n",
    "        criterion = torch.nn.BCELoss() if n_classes==2 else torch.nn.CrossEntropyLoss()\n",
    "        # optimizer\n",
    "        optimizer = torch.optim.Adam(self.model.parameters(), lr=learning_rate, weight_decay=weight_decay)\n",
    "        # train loop\n",
    "        train_l, val_l, train_score, val_score= [], [], [], []\n",
    "        for epoch in tqdm(range(epochs)):\n",
    "\n",
    "            # set model to train mode\n",
    "            self.model.train()\n",
    "            start_time = time.time()\n",
    "            for i in range(0, len(x_train), 1):\n",
    "                inputs, labels = x_train[i:i+1], y_train[i:i+1]\n",
    "                # forward pass\n",
    "                outputs = self.model(inputs)\n",
    "                loss = criterion(outputs, labels)\n",
    "                # backward pass\n",
    "                optimizer.zero_grad()\n",
    "                loss.backward()\n",
    "                # update weights\n",
    "                optimizer.step()\n",
    "            epoch_time = time.time() - start_time\n",
    "            self.log['train'] += epoch_time\n",
    "\n",
    "            # set model to eval mode\n",
    "            self.model.eval()\n",
    "            # calculate curve metrics\n",
    "            with torch.no_grad():\n",
    "                train_outputs = self.model(x_train)\n",
    "                train_loss = criterion(train_outputs, y_train)\n",
    "                predicted = torch.round(train_outputs)\n",
    "                train_accuracy = accuracy_score(predicted.detach().numpy(), y_train.detach().numpy())*100\n",
    "\n",
    "                val_outputs = self.model(x_val)\n",
    "                val_loss = criterion(val_outputs, y_val)\n",
    "                predicted = torch.round(val_outputs)\n",
    "                val_accuracy = accuracy_score(predicted.detach().numpy(), y_val.detach().numpy())*100\n",
    "\n",
    "            train_l.append(train_loss.item())\n",
    "            val_l.append(val_loss.item())\n",
    "            train_score.append(train_accuracy)\n",
    "            val_score.append(val_accuracy)\n",
    "\n",
    "        if plot:\n",
    "            fig, ax = plt.subplots(1, 2, figsize=(10, 5))\n",
    "            ax[0].plot(train_l, label='Training Loss')\n",
    "            ax[0].plot(val_l, label='Validation Loss')\n",
    "            ax[0].set_xlabel('Epochs')\n",
    "            ax[0].set_title('Loss')\n",
    "            ax[0].legend()\n",
    "            ax[1].plot(train_score, label='Training Accuracy')\n",
    "            ax[1].plot(val_score, label='Validation Accuracy')\n",
    "            ax[1]. set_xlabel('Epochs')\n",
    "            ax[1].set_title('Accuracy')\n",
    "            ax[1].legend()\n",
    "            plt.show()\n",
    "\n",
    "        return self\n",
    "\n",
    "    def evaluate(self, X):\n",
    "        # data to tensor\n",
    "        X = torch.tensor(X, dtype=torch.float)\n",
    "        # set model to eval mode\n",
    "        self.model.eval()\n",
    "        # predict\n",
    "        start_time = time.time()\n",
    "        with torch.no_grad():\n",
    "            # predict each sample individually\n",
    "            outputs = [self.model(X[[i]]) for i in tqdm(range(X.shape[0]))]\n",
    "        self.log['evaluate_total'] = time.time() - start_time\n",
    "        self.log['evaluate_sample'] = self.log['evaluate_total']/X.shape[0]\n",
    "        # get binary predictions\n",
    "        y_pred = torch.round(torch.cat(outputs)).detach().numpy().flatten()\n",
    "\n",
    "        return y_pred"
   ]
  },
  {
   "cell_type": "code",
   "execution_count": 11,
   "metadata": {},
   "outputs": [
    {
     "name": "stdout",
     "output_type": "stream",
     "text": [
      "----------------------------------------------------------------\n",
      "        Layer (type)               Output Shape         Param #\n",
      "================================================================\n",
      "            Conv2d-1            [-1, 1, 26, 26]              10\n",
      "              ReLU-2            [-1, 1, 26, 26]               0\n",
      "         AvgPool2d-3            [-1, 1, 13, 13]               0\n",
      "           Flatten-4                  [-1, 169]               0\n",
      "            Linear-5                    [-1, 1]             170\n",
      "           Sigmoid-6                    [-1, 1]               0\n",
      "================================================================\n",
      "Total params: 180\n",
      "Trainable params: 180\n",
      "Non-trainable params: 0\n",
      "----------------------------------------------------------------\n",
      "Input size (MB): 0.00\n",
      "Forward/backward pass size (MB): 0.01\n",
      "Params size (MB): 0.00\n",
      "Estimated Total Size (MB): 0.02\n",
      "----------------------------------------------------------------\n"
     ]
    }
   ],
   "source": [
    "torch_model = torch.nn.Sequential(\n",
    "        torch.nn.Conv2d(in_channels=1, out_channels=1, kernel_size=3),\n",
    "        torch.nn.ReLU(),\n",
    "        torch.nn.AvgPool2d(kernel_size=2, stride=2),\n",
    "        torch.nn.Flatten(),\n",
    "        torch.nn.Linear(in_features=169, out_features=1, bias=True),\n",
    "        torch.nn.Sigmoid()\n",
    "    )\n",
    "\n",
    "summary(torch_model, input_size=(1, 28, 28))"
   ]
  },
  {
   "cell_type": "code",
   "execution_count": 12,
   "metadata": {},
   "outputs": [
    {
     "name": "stderr",
     "output_type": "stream",
     "text": [
      "100%|██████████| 30/30 [01:51<00:00,  3.71s/it]\n"
     ]
    },
    {
     "data": {
      "image/png": "[encoded data removed]",
      "text/plain": [
       "<Figure size 1000x500 with 2 Axes>"
      ]
     },
     "metadata": {},
     "output_type": "display_data"
    },
    {
     "name": "stderr",
     "output_type": "stream",
     "text": [
      "100%|██████████| 624/624 [00:00<00:00, 11320.90it/s]\n"
     ]
    }
   ],
   "source": [
    "torch_cnn = TorchCNN(model=torch_model)\n",
    "torch_cnn = torch_cnn.train(xtrain_gray, ytrain, xval_gray, yval, epochs=30, learning_rate=0.0001, weight_decay=0.0001, plot=True)\n",
    "ypred_torch = torch_cnn.evaluate(xtest_gray)"
   ]
  },
  {
   "cell_type": "code",
   "execution_count": 13,
   "metadata": {},
   "outputs": [
    {
     "data": {
      "image/png": "[encoded data removed]",
      "text/plain": [
       "<Figure size 500x500 with 2 Axes>"
      ]
     },
     "metadata": {},
     "output_type": "display_data"
    }
   ],
   "source": [
    "plot_classification_metrics(ytest, ypred_torch, plot_title='Torch CNN')"
   ]
  },
  {
   "cell_type": "code",
   "execution_count": 14,
   "metadata": {},
   "outputs": [
    {
     "data": {
      "text/html": [
       "<div>\n",
       "<style scoped>\n",
       "    .dataframe tbody tr th:only-of-type {\n",
       "        vertical-align: middle;\n",
       "    }\n",
       "\n",
       "    .dataframe tbody tr th {\n",
       "        vertical-align: top;\n",
       "    }\n",
       "\n",
       "    .dataframe thead th {\n",
       "        text-align: right;\n",
       "    }\n",
       "</style>\n",
       "<table border=\"1\" class=\"dataframe\">\n",
       "  <thead>\n",
       "    <tr style=\"text-align: right;\">\n",
       "      <th></th>\n",
       "      <th>epochs</th>\n",
       "      <th>learning_rate</th>\n",
       "      <th>weight_decay</th>\n",
       "      <th>model</th>\n",
       "      <th>final_train_loss</th>\n",
       "      <th>final_train_accuracy</th>\n",
       "      <th>final_val_loss</th>\n",
       "      <th>final_val_accuracy</th>\n",
       "    </tr>\n",
       "  </thead>\n",
       "  <tbody>\n",
       "    <tr>\n",
       "      <th>0</th>\n",
       "      <td>20</td>\n",
       "      <td>0.0001</td>\n",
       "      <td>0.0001</td>\n",
       "      <td>Sequential(\\n  (0): Conv2d(1, 2, kernel_size=(...</td>\n",
       "      <td>0.098308</td>\n",
       "      <td>96.197961</td>\n",
       "      <td>0.096934</td>\n",
       "      <td>95.992366</td>\n",
       "    </tr>\n",
       "    <tr>\n",
       "      <th>4</th>\n",
       "      <td>20</td>\n",
       "      <td>0.0001</td>\n",
       "      <td>0.0001</td>\n",
       "      <td>Sequential(\\n  (0): Conv2d(1, 1, kernel_size=(...</td>\n",
       "      <td>0.108142</td>\n",
       "      <td>96.070518</td>\n",
       "      <td>0.127290</td>\n",
       "      <td>95.419847</td>\n",
       "    </tr>\n",
       "    <tr>\n",
       "      <th>2</th>\n",
       "      <td>20</td>\n",
       "      <td>0.0001</td>\n",
       "      <td>0.0001</td>\n",
       "      <td>Sequential(\\n  (0): Conv2d(1, 1, kernel_size=(...</td>\n",
       "      <td>0.104789</td>\n",
       "      <td>96.240442</td>\n",
       "      <td>0.123349</td>\n",
       "      <td>95.229008</td>\n",
       "    </tr>\n",
       "    <tr>\n",
       "      <th>9</th>\n",
       "      <td>20</td>\n",
       "      <td>0.0001</td>\n",
       "      <td>0.0001</td>\n",
       "      <td>Sequential(\\n  (0): Conv2d(1, 2, kernel_size=(...</td>\n",
       "      <td>0.108900</td>\n",
       "      <td>95.921835</td>\n",
       "      <td>0.114393</td>\n",
       "      <td>95.229008</td>\n",
       "    </tr>\n",
       "    <tr>\n",
       "      <th>8</th>\n",
       "      <td>20</td>\n",
       "      <td>0.0001</td>\n",
       "      <td>0.0001</td>\n",
       "      <td>Sequential(\\n  (0): Conv2d(1, 2, kernel_size=(...</td>\n",
       "      <td>0.114461</td>\n",
       "      <td>95.433305</td>\n",
       "      <td>0.111210</td>\n",
       "      <td>95.038168</td>\n",
       "    </tr>\n",
       "    <tr>\n",
       "      <th>3</th>\n",
       "      <td>20</td>\n",
       "      <td>0.0001</td>\n",
       "      <td>0.0010</td>\n",
       "      <td>Sequential(\\n  (0): Conv2d(1, 1, kernel_size=(...</td>\n",
       "      <td>0.098492</td>\n",
       "      <td>96.389125</td>\n",
       "      <td>0.122830</td>\n",
       "      <td>94.847328</td>\n",
       "    </tr>\n",
       "    <tr>\n",
       "      <th>1</th>\n",
       "      <td>20</td>\n",
       "      <td>0.0001</td>\n",
       "      <td>0.0001</td>\n",
       "      <td>Sequential(\\n  (0): Conv2d(1, 2, kernel_size=(...</td>\n",
       "      <td>0.097702</td>\n",
       "      <td>96.091759</td>\n",
       "      <td>0.126715</td>\n",
       "      <td>94.656489</td>\n",
       "    </tr>\n",
       "    <tr>\n",
       "      <th>11</th>\n",
       "      <td>50</td>\n",
       "      <td>0.0001</td>\n",
       "      <td>0.0001</td>\n",
       "      <td>Sequential(\\n  (0): Conv2d(1, 2, kernel_size=(...</td>\n",
       "      <td>0.152032</td>\n",
       "      <td>93.776551</td>\n",
       "      <td>0.139573</td>\n",
       "      <td>94.656489</td>\n",
       "    </tr>\n",
       "    <tr>\n",
       "      <th>12</th>\n",
       "      <td>100</td>\n",
       "      <td>0.0001</td>\n",
       "      <td>0.0002</td>\n",
       "      <td>Sequential(\\n  (0): Conv2d(1, 2, kernel_size=(...</td>\n",
       "      <td>0.131718</td>\n",
       "      <td>95.008496</td>\n",
       "      <td>0.117890</td>\n",
       "      <td>94.656489</td>\n",
       "    </tr>\n",
       "    <tr>\n",
       "      <th>5</th>\n",
       "      <td>20</td>\n",
       "      <td>0.0001</td>\n",
       "      <td>0.0001</td>\n",
       "      <td>Sequential(\\n  (0): Conv2d(1, 1, kernel_size=(...</td>\n",
       "      <td>0.088938</td>\n",
       "      <td>98.237043</td>\n",
       "      <td>0.224892</td>\n",
       "      <td>93.893130</td>\n",
       "    </tr>\n",
       "    <tr>\n",
       "      <th>7</th>\n",
       "      <td>20</td>\n",
       "      <td>0.0001</td>\n",
       "      <td>0.0001</td>\n",
       "      <td>Sequential(\\n  (0): Conv2d(1, 1, kernel_size=(...</td>\n",
       "      <td>0.182074</td>\n",
       "      <td>93.011895</td>\n",
       "      <td>0.175977</td>\n",
       "      <td>93.893130</td>\n",
       "    </tr>\n",
       "    <tr>\n",
       "      <th>13</th>\n",
       "      <td>30</td>\n",
       "      <td>0.0001</td>\n",
       "      <td>0.0001</td>\n",
       "      <td>Sequential(\\n  (0): Conv2d(1, 2, kernel_size=(...</td>\n",
       "      <td>0.171982</td>\n",
       "      <td>93.011895</td>\n",
       "      <td>0.167785</td>\n",
       "      <td>93.511450</td>\n",
       "    </tr>\n",
       "    <tr>\n",
       "      <th>10</th>\n",
       "      <td>20</td>\n",
       "      <td>0.0001</td>\n",
       "      <td>0.0001</td>\n",
       "      <td>Sequential(\\n  (0): Conv2d(1, 2, kernel_size=(...</td>\n",
       "      <td>0.190538</td>\n",
       "      <td>92.162277</td>\n",
       "      <td>0.189207</td>\n",
       "      <td>93.129771</td>\n",
       "    </tr>\n",
       "    <tr>\n",
       "      <th>6</th>\n",
       "      <td>20</td>\n",
       "      <td>0.0001</td>\n",
       "      <td>0.0001</td>\n",
       "      <td>Sequential(\\n  (0): Conv2d(1, 1, kernel_size=(...</td>\n",
       "      <td>0.570819</td>\n",
       "      <td>74.214104</td>\n",
       "      <td>0.570583</td>\n",
       "      <td>74.236641</td>\n",
       "    </tr>\n",
       "  </tbody>\n",
       "</table>\n",
       "</div>"
      ],
      "text/plain": [
       "    epochs  learning_rate  weight_decay  \\\n",
       "0       20         0.0001        0.0001   \n",
       "4       20         0.0001        0.0001   \n",
       "2       20         0.0001        0.0001   \n",
       "9       20         0.0001        0.0001   \n",
       "8       20         0.0001        0.0001   \n",
       "3       20         0.0001        0.0010   \n",
       "1       20         0.0001        0.0001   \n",
       "11      50         0.0001        0.0001   \n",
       "12     100         0.0001        0.0002   \n",
       "5       20         0.0001        0.0001   \n",
       "7       20         0.0001        0.0001   \n",
       "13      30         0.0001        0.0001   \n",
       "10      20         0.0001        0.0001   \n",
       "6       20         0.0001        0.0001   \n",
       "\n",
       "                                                model  final_train_loss  \\\n",
       "0   Sequential(\\n  (0): Conv2d(1, 2, kernel_size=(...          0.098308   \n",
       "4   Sequential(\\n  (0): Conv2d(1, 1, kernel_size=(...          0.108142   \n",
       "2   Sequential(\\n  (0): Conv2d(1, 1, kernel_size=(...          0.104789   \n",
       "9   Sequential(\\n  (0): Conv2d(1, 2, kernel_size=(...          0.108900   \n",
       "8   Sequential(\\n  (0): Conv2d(1, 2, kernel_size=(...          0.114461   \n",
       "3   Sequential(\\n  (0): Conv2d(1, 1, kernel_size=(...          0.098492   \n",
       "1   Sequential(\\n  (0): Conv2d(1, 2, kernel_size=(...          0.097702   \n",
       "11  Sequential(\\n  (0): Conv2d(1, 2, kernel_size=(...          0.152032   \n",
       "12  Sequential(\\n  (0): Conv2d(1, 2, kernel_size=(...          0.131718   \n",
       "5   Sequential(\\n  (0): Conv2d(1, 1, kernel_size=(...          0.088938   \n",
       "7   Sequential(\\n  (0): Conv2d(1, 1, kernel_size=(...          0.182074   \n",
       "13  Sequential(\\n  (0): Conv2d(1, 2, kernel_size=(...          0.171982   \n",
       "10  Sequential(\\n  (0): Conv2d(1, 2, kernel_size=(...          0.190538   \n",
       "6   Sequential(\\n  (0): Conv2d(1, 1, kernel_size=(...          0.570819   \n",
       "\n",
       "    final_train_accuracy  final_val_loss  final_val_accuracy  \n",
       "0              96.197961        0.096934           95.992366  \n",
       "4              96.070518        0.127290           95.419847  \n",
       "2              96.240442        0.123349           95.229008  \n",
       "9              95.921835        0.114393           95.229008  \n",
       "8              95.433305        0.111210           95.038168  \n",
       "3              96.389125        0.122830           94.847328  \n",
       "1              96.091759        0.126715           94.656489  \n",
       "11             93.776551        0.139573           94.656489  \n",
       "12             95.008496        0.117890           94.656489  \n",
       "5              98.237043        0.224892           93.893130  \n",
       "7              93.011895        0.175977           93.893130  \n",
       "13             93.011895        0.167785           93.511450  \n",
       "10             92.162277        0.189207           93.129771  \n",
       "6              74.214104        0.570583           74.236641  "
      ]
     },
     "execution_count": 14,
     "metadata": {},
     "output_type": "execute_result"
    }
   ],
   "source": [
    "experiments = pd.read_csv(f'{dataset}_Experiments.csv').sort_values(by='final_val_accuracy', ascending=False)\n",
    "experiments"
   ]
  },
  {
   "cell_type": "code",
   "execution_count": 15,
   "metadata": {},
   "outputs": [
    {
     "name": "stdout",
     "output_type": "stream",
     "text": [
      "Sequential(\n",
      "  (0): Conv2d(1, 1, kernel_size=(5, 5), stride=(1, 1))\n",
      "  (1): ReLU()\n",
      "  (2): AvgPool2d(kernel_size=2, stride=2, padding=0)\n",
      "  (3): Flatten(start_dim=1, end_dim=-1)\n",
      "  (4): Linear(in_features=144, out_features=1, bias=True)\n",
      "  (5): Sigmoid()\n",
      ")\n"
     ]
    }
   ],
   "source": [
    "# print top model architecture\n",
    "print(experiments['model'].iloc[2])"
   ]
  },
  {
   "cell_type": "markdown",
   "metadata": {},
   "source": [
    "### Concrete"
   ]
  },
  {
   "cell_type": "code",
   "execution_count": 16,
   "metadata": {},
   "outputs": [],
   "source": [
    "# class ConcreteCNN():\n",
    "#     def __init__(self, model):\n",
    "#         self.model = model\n",
    "#         self.log = {\n",
    "#             'train': 0,\n",
    "#             'evaluate_total': None,\n",
    "#             'evaluate_sample': None\n",
    "#         }\n",
    "\n",
    "#     ##############################################\n",
    "#     # curve metrics must be calculated without FHE\n",
    "#     ##############################################"
   ]
  },
  {
   "cell_type": "markdown",
   "metadata": {},
   "source": [
    "## Approach 2: Feature Extractor (Transfer Learning) & XGBoost"
   ]
  },
  {
   "cell_type": "code",
   "execution_count": 17,
   "metadata": {},
   "outputs": [],
   "source": [
    "# # check how image looks like after resnet50 preprocessing\n",
    "# x = train_dataset[0][0][0]\n",
    "# plt.imshow(x, cmap='gray')\n",
    "# plt.show()\n",
    "\n",
    "# # resnet50 preprocessing\n",
    "# preprocess = transforms.Compose([\n",
    "#     transforms.ToPILImage(),\n",
    "#     transforms.Resize(256),\n",
    "#     transforms.CenterCrop(224),\n",
    "#     transforms.ToTensor(),\n",
    "#     transforms.Normalize(mean=[.5], std=[.5])\n",
    "# ])\n",
    "\n",
    "# # resnet50 preprocessing\n",
    "# x = preprocess(x)\n",
    "# plt.imshow(x[0], cmap='gray')\n",
    "# plt.show()"
   ]
  },
  {
   "cell_type": "markdown",
   "metadata": {},
   "source": [
    "## Approach 3: Transfer Learning (Fine-Tuning Layers Encrypted)"
   ]
  },
  {
   "cell_type": "code",
   "execution_count": null,
   "metadata": {},
   "outputs": [],
   "source": []
  }
 ],
 "metadata": {
  "kernelspec": {
   "display_name": "thesis",
   "language": "python",
   "name": "python3"
  },
  "language_info": {
   "codemirror_mode": {
    "name": "ipython",
    "version": 3
   },
   "file_extension": ".py",
   "mimetype": "text/x-python",
   "name": "python",
   "nbconvert_exporter": "python",
   "pygments_lexer": "ipython3",
   "version": "3.10.13"
  }
 },
 "nbformat": 4,
 "nbformat_minor": 2
}
