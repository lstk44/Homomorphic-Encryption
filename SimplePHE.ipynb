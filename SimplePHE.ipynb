{
 "cells": [
  {
   "cell_type": "markdown",
   "metadata": {},
   "source": [
    "# Imports"
   ]
  },
  {
   "cell_type": "code",
   "execution_count": 1,
   "metadata": {},
   "outputs": [],
   "source": [
    "import random\n",
    "from Crypto.Util.number import getPrime"
   ]
  },
  {
   "cell_type": "markdown",
   "metadata": {},
   "source": [
    "# Key Generation"
   ]
  },
  {
   "cell_type": "code",
   "execution_count": 2,
   "metadata": {},
   "outputs": [],
   "source": [
    "# Function to generate secret and private keys\n",
    "def key_gen(key_size=10):\n",
    "    # Generate a random prime number of size 'key_size' to be used in key generation\n",
    "    random_prime = getPrime(key_size)\n",
    "    # Generate another random prime number, which will serve as the secret key\n",
    "    secret_key = getPrime(key_size)\n",
    "    # Create the public key by multiplying the random prime with the secret key\n",
    "    public_key = random_prime * secret_key\n",
    "    # Return the public key and the secret key\n",
    "    return secret_key, public_key"
   ]
  },
  {
   "cell_type": "code",
   "execution_count": 3,
   "metadata": {},
   "outputs": [],
   "source": [
    "secret_key, public_key = key_gen(key_size=10)\n",
    "\n",
    "# print('Secret key:\\t', secret_key)\n",
    "# print('Public key:\\t', public_key)"
   ]
  },
  {
   "cell_type": "markdown",
   "metadata": {},
   "source": [
    "# Encryption\n",
    "\n",
    "Encrypt the message/value using the public key"
   ]
  },
  {
   "cell_type": "code",
   "execution_count": 4,
   "metadata": {},
   "outputs": [],
   "source": [
    "# Function to encrypt a message using the public key\n",
    "def encrypt(public_key, message):\n",
    "    # Generate a random error term, which is less than the public key\n",
    "    error = random.randint(1, public_key)\n",
    "    # Encrypt the message by adding an error term scaled by the public key\n",
    "    # The error term introduces randomness in the encryption process\n",
    "    cipher = message + error * public_key\n",
    "    # Return the encrypted message (cipher text)\n",
    "    return cipher"
   ]
  },
  {
   "cell_type": "code",
   "execution_count": 5,
   "metadata": {},
   "outputs": [],
   "source": [
    "message = 10\n",
    "\n",
    "cipher = encrypt(public_key, message)\n",
    "\n",
    "# print('Cipher text:\\t', cipher)"
   ]
  },
  {
   "cell_type": "markdown",
   "metadata": {},
   "source": [
    "# Partial Homomorphic Operation\n",
    "\n",
    "Multiplication with a plaintext number"
   ]
  },
  {
   "cell_type": "code",
   "execution_count": 6,
   "metadata": {},
   "outputs": [],
   "source": [
    "factor = 2\n",
    "\n",
    "encrypted_result = cipher * factor\n",
    "\n",
    "# print('Encrypted result:\\t', encrypted_result)"
   ]
  },
  {
   "cell_type": "markdown",
   "metadata": {},
   "source": [
    "# Decryption\n",
    "\n",
    "Decrypt the ciphertext result to plaintext"
   ]
  },
  {
   "cell_type": "code",
   "execution_count": 7,
   "metadata": {},
   "outputs": [],
   "source": [
    "# Function to decrypt a message using the secret key\n",
    "def decrypt(secret_key, cipher):\n",
    "    # Decrypt the message by computing the modulus of the cipher with the secret key\n",
    "    # This step retrieves the original message from the cipher text\n",
    "    message = cipher % secret_key\n",
    "    # Return the decrypted message\n",
    "    return message"
   ]
  },
  {
   "cell_type": "code",
   "execution_count": 8,
   "metadata": {},
   "outputs": [],
   "source": [
    "decrypted_result = decrypt(secret_key, encrypted_result)\n",
    "\n",
    "# print('Plaintext result:\\t', message * multiplication_factor)\n",
    "# print('PartialHE result:\\t', decrypted_result)"
   ]
  },
  {
   "cell_type": "code",
   "execution_count": 14,
   "metadata": {},
   "outputs": [
    {
     "name": "stdout",
     "output_type": "stream",
     "text": [
      "Message:\t\t 10\n",
      "Multiplicator:\t\t 2\n",
      "\n",
      "Secret key:\t\t 617\n",
      "Public key:\t\t 396731\n",
      "\n",
      "Encrypted Message:\t 29900028556\n",
      "Encrypted Result:\t 59800057112\n",
      "\n",
      "Decrypted Result:\t 20\n",
      "Plaintext Result:\t 20\n"
     ]
    }
   ],
   "source": [
    "print('Message:\\t\\t', message)\n",
    "print('factor:\\t\\t', factor)\n",
    "print()\n",
    "print('Secret key:\\t\\t', secret_key)\n",
    "print('Public key:\\t\\t', public_key)\n",
    "print()\n",
    "print('Encrypted Message:\\t', cipher)\n",
    "print('Encrypted Result:\\t', encrypted_result)\n",
    "print()\n",
    "print('Decrypted Result:\\t', decrypted_result)\n",
    "print('Plaintext Result:\\t', message * factor)"
   ]
  }
 ],
 "metadata": {
  "kernelspec": {
   "display_name": "thesis",
   "language": "python",
   "name": "python3"
  },
  "language_info": {
   "codemirror_mode": {
    "name": "ipython",
    "version": 3
   },
   "file_extension": ".py",
   "mimetype": "text/x-python",
   "name": "python",
   "nbconvert_exporter": "python",
   "pygments_lexer": "ipython3",
   "version": "3.10.13"
  }
 },
 "nbformat": 4,
 "nbformat_minor": 2
}
