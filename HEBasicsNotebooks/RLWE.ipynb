{
 "cells": [
  {
   "cell_type": "markdown",
   "metadata": {},
   "source": [
    "# Ring Learning With Errors\n",
    "\n",
    "\n",
    "**Source:**\n",
    "\n",
    "https://blog.openmined.org/build-an-homomorphic-encryption-scheme-from-scratch-with-python/"
   ]
  },
  {
   "cell_type": "markdown",
   "metadata": {},
   "source": [
    "## Imports"
   ]
  },
  {
   "cell_type": "code",
   "execution_count": 15,
   "metadata": {},
   "outputs": [],
   "source": [
    "import numpy as np\n",
    "from numpy.polynomial import polynomial as poly"
   ]
  },
  {
   "cell_type": "markdown",
   "metadata": {},
   "source": [
    "## Funciphertextions"
   ]
  },
  {
   "cell_type": "code",
   "execution_count": 16,
   "metadata": {},
   "outputs": [],
   "source": [
    "# Polynomial multiplication in the ring: Multiplies two polynomials (x and y), then reduces the product modulo the ciphertext modulus and the polynomial modulus.\n",
    "def polymul(x, y, ciphertext_mod, poly_mod):\n",
    "    # Multiply x and y, reduce modulo ciphertext_mod, divide by poly_mod, take the remainder, and then reduce modulo ciphertext_mod again\n",
    "    return np.int64(np.round(poly.polydiv(poly.polymul(x, y) % ciphertext_mod, poly_mod)[1] % ciphertext_mod))\n",
    "\n",
    "# Polynomial addition in the ring: Adds two polynomials (x and y), then reduces the sum modulo the ciphertext modulus and the polynomial modulus.\n",
    "def polyadd(x, y, ciphertext_mod, poly_mod):\n",
    "    # Add x and y, reduce modulo ciphertext_mod, divide by poly_mod, take the remainder, and then reduce modulo ciphertext_mod again\n",
    "    return np.int64(np.round(poly.polydiv(poly.polyadd(x, y) % ciphertext_mod, poly_mod)[1] % ciphertext_mod))\n",
    "\n",
    "# Key generation function\n",
    "def keygen(size, ciphertext_mod, poly_mod):\n",
    "    # Generate a random binary secret key\n",
    "    secret_key = np.random.randint(0, 2, size=size, dtype=np.int64)\n",
    "    # Generate a random polynomial A\n",
    "    A = np.random.randint(0, ciphertext_mod, size=size, dtype=np.int64)\n",
    "    # Generate a random error term with a normal distribution\n",
    "    error = np.int64(np.random.normal(0, 2, size=size))\n",
    "    # Calculate b as the addition of -A*secret_key and -error in the ring\n",
    "    b = polyadd(polymul(-A, secret_key, ciphertext_mod, poly_mod), -error, ciphertext_mod, poly_mod)\n",
    "    # Return public key (A, b) and secret key\n",
    "    return (A, b), secret_key\n",
    "\n",
    "# Encryption function\n",
    "def encrypt(public_key, size, ciphertext_mod, plaintext_mod, poly_mod, plaintext):\n",
    "    # Encode the plaintext as a polynomial with the plaintext in the first coefficient\n",
    "    m = np.array([plaintext] + [0] * (size - 1), dtype=np.int64) % plaintext_mod\n",
    "    # Scale the plaintext polynomial by delta, which is the quotient of the ciphertext modulus and plaintext modulus\n",
    "    delta = ciphertext_mod // plaintext_mod\n",
    "    scaled_m = delta * m  % ciphertext_mod\n",
    "    # Generate random error terms e1 and e2\n",
    "    e1 = np.int64(np.random.normal(0, 2, size=size))\n",
    "    e2 = np.int64(np.random.normal(0, 2, size=size))\n",
    "    # Generate a random binary polynomial u\n",
    "    u = np.random.randint(0, 2, size, dtype=np.int64)\n",
    "    # Compute the first part of the ciphertext\n",
    "    ciphertext0 = polyadd(polymul(public_key[0], u, ciphertext_mod, poly_mod), e2, ciphertext_mod, poly_mod)\n",
    "    # Compute the second part of the ciphertext\n",
    "    ciphertext1 = polyadd(polyadd(polymul(public_key[1], u, ciphertext_mod, poly_mod), e1, ciphertext_mod, poly_mod), scaled_m, ciphertext_mod, poly_mod)\n",
    "    # Return the ciphertext tuple\n",
    "    return (ciphertext0, ciphertext1)\n",
    "\n",
    "# Decryption function\n",
    "def decrypt(secret_key, size, ciphertext_mod, plaintext_mod, poly_mod, ciphertext):\n",
    "    # Combine the two parts of the ciphertext using the secret key\n",
    "    scaled_pt = polyadd(polymul(ciphertext[0], secret_key, ciphertext_mod, poly_mod), ciphertext[1], ciphertext_mod, poly_mod)\n",
    "    # Scale down to the plaintext modulus and round to get the plaintext polynomial\n",
    "    decrypted_poly = np.round(scaled_pt * plaintext_mod / ciphertext_mod) % plaintext_mod\n",
    "    # Return the first coefficient of the decrypted polynomial as the plaintext\n",
    "    return int(decrypted_poly[0])\n",
    "\n",
    "# Function to multiply a ciphertext with a plaintext integer\n",
    "def mul_plain(ciphertext, plaintext, ciphertext_mod, plaintext_mod, poly_mod):\n",
    "    # Determine the size of the polynomial\n",
    "    size = len(poly_mod) - 1\n",
    "    # Encode the plaintext as a polynomial\n",
    "    m = np.array([plaintext] + [0] * (size - 1), dtype=np.int64) % plaintext_mod\n",
    "    # Multiply the first part of the ciphertext with the plaintext polynomial\n",
    "    new_ciphertext0 = polymul(ciphertext[0], m, ciphertext_mod, poly_mod)\n",
    "    # Multiply the second part of the ciphertext with the plaintext polynomial\n",
    "    new_ciphertext1 = polymul(ciphertext[1], m, ciphertext_mod, poly_mod)\n",
    "    # Return the new ciphertext tuple\n",
    "    return (new_ciphertext0, new_ciphertext1)"
   ]
  },
  {
   "cell_type": "markdown",
   "metadata": {},
   "source": [
    "## Parameters"
   ]
  },
  {
   "cell_type": "code",
   "execution_count": 17,
   "metadata": {},
   "outputs": [],
   "source": [
    "# Message\n",
    "message = 5\n",
    "# Multiplication factor\n",
    "factor = 6\n",
    "\n",
    "# polynomial modulus degree\n",
    "polynomial_degree = 2**4\n",
    "# ciphertext modulus\n",
    "ciphertext_mod = 2**15\n",
    "# plaintext modulus\n",
    "plaintext_mod = 2**8\n",
    "# polynomial modulus\n",
    "poly_mod = np.array([1] + [0] * (polynomial_degree - 1) + [1])"
   ]
  },
  {
   "cell_type": "code",
   "execution_count": 18,
   "metadata": {},
   "outputs": [],
   "source": [
    "# Key generation\n",
    "public_key, secret_key = keygen(polynomial_degree, ciphertext_mod, poly_mod)\n",
    "\n",
    "# Encryption\n",
    "cipher = encrypt(public_key, polynomial_degree, ciphertext_mod, plaintext_mod, poly_mod, message)\n",
    "\n",
    "# Multiplication with plaintext integer/factor\n",
    "cipher_result = mul_plain(cipher, factor, ciphertext_mod, plaintext_mod, poly_mod)\n",
    "\n",
    "# Decryption\n",
    "result = decrypt(secret_key, polynomial_degree, ciphertext_mod, plaintext_mod, poly_mod, cipher_result)"
   ]
  },
  {
   "cell_type": "code",
   "execution_count": 27,
   "metadata": {},
   "outputs": [
    {
     "name": "stdout",
     "output_type": "stream",
     "text": [
      "Message: 5\n",
      "Factor: 6 \n",
      "\n",
      "secret_key:\n",
      "[0 0 0 0 0 1 0 0 0 1 0 1 0 1 0 1] \n",
      "\n",
      "public_key (A):\n",
      "[15664 17947 15822 20317  1143 23820 27415  3225 30524 18444 24770 27375\n",
      " 32759 15991 24215  7181] \n",
      "\n",
      "public_key (b):\n",
      "[22633  2630  5623 15534 22325 10513 16853 12255 10976  8142 23689  7503\n",
      " 27703  2146 12013 28266] \n",
      "\n",
      "cipher:\n",
      "(array([ 2843, 13383, 25599, 23924,  7048, 32216, 27626, 27111, 28123,\n",
      "       25161, 27453, 31349, 29410, 24361, 19411,  7688]), array([30318, 19498,  1714, 11355, 25217, 11465, 29071, 13259, 31877,\n",
      "         856, 17800, 25521,   401, 21334, 11300,  7725])) \n",
      "\n",
      "cipher_result:\n",
      "(array([17058, 14762, 22522, 12472,  9520, 29456,  1916, 31594,  4898,\n",
      "       19894,   878, 24254, 12620, 15094, 18162, 13360]), array([18068, 18684, 10284,  2594, 20230,  3254, 10586, 14018, 27422,\n",
      "        5136,  8496, 22054,  2406, 29700,  2264, 13582])) \n",
      "\n",
      "result (encryption): 30\n",
      "result (clear): 30 \n",
      "\n"
     ]
    }
   ],
   "source": [
    "print(\"Message:\", message)\n",
    "print(\"Factor:\", factor, '\\n')\n",
    "print(\"secret_key:\")\n",
    "print(secret_key, '\\n')\n",
    "print(\"public_key (A):\")\n",
    "print(public_key[1], '\\n')\n",
    "print(\"public_key (b):\")\n",
    "print(public_key[0], '\\n')\n",
    "print(\"cipher:\")\n",
    "print(cipher, '\\n')\n",
    "print(\"cipher_result:\")\n",
    "print(cipher_result, '\\n')\n",
    "print(\"result (encryption):\", result)\n",
    "print(\"result (clear):\", message * factor, '\\n')"
   ]
  }
 ],
 "metadata": {
  "kernelspec": {
   "display_name": "thesis",
   "language": "python",
   "name": "python3"
  },
  "language_info": {
   "codemirror_mode": {
    "name": "ipython",
    "version": 3
   },
   "file_extension": ".py",
   "mimetype": "text/x-python",
   "name": "python",
   "nbconvert_exporter": "python",
   "pygments_lexer": "ipython3",
   "version": "3.10.13"
  }
 },
 "nbformat": 4,
 "nbformat_minor": 2
}
