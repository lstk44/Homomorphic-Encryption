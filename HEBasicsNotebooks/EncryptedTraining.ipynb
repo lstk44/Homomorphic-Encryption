{
 "cells": [
  {
   "cell_type": "markdown",
   "metadata": {},
   "source": [
    "# Encrypted Training"
   ]
  },
  {
   "cell_type": "markdown",
   "metadata": {},
   "source": [
    "## Imports"
   ]
  },
  {
   "cell_type": "code",
   "execution_count": 1,
   "metadata": {},
   "outputs": [],
   "source": [
    "import time\n",
    "import numpy as np\n",
    "\n",
    "from sklearn.datasets import load_iris\n",
    "from sklearn.model_selection import train_test_split\n",
    "from sklearn.preprocessing import StandardScaler\n",
    "from sklearn.metrics import *\n",
    "\n",
    "from concrete.ml.sklearn import SGDClassifier"
   ]
  },
  {
   "cell_type": "code",
   "execution_count": 2,
   "metadata": {},
   "outputs": [],
   "source": [
    "# Set random seed for reproducibility\n",
    "np.random.seed(0)"
   ]
  },
  {
   "cell_type": "markdown",
   "metadata": {},
   "source": [
    "## Load Data"
   ]
  },
  {
   "cell_type": "code",
   "execution_count": 3,
   "metadata": {},
   "outputs": [],
   "source": [
    "# Load the iris dataset\n",
    "x, y = load_iris(return_X_y=True)\n",
    "\n",
    "# Make the problem binary (multiclass classification is not supported yet)\n",
    "x = x[y != 0]\n",
    "y = y[y != 0]\n",
    "\n",
    "# Split the dataset into training and testing sets\n",
    "x_train, x_test, y_train, y_test = train_test_split(x, y, test_size=10)\n",
    "\n",
    "# Scale the features\n",
    "scaler = StandardScaler()\n",
    "x_train = scaler.fit_transform(x_train)\n",
    "x_test = scaler.transform(x_test)"
   ]
  },
  {
   "cell_type": "markdown",
   "metadata": {},
   "source": [
    "## Modelling"
   ]
  },
  {
   "cell_type": "code",
   "execution_count": 4,
   "metadata": {},
   "outputs": [],
   "source": [
    "# Parameters range\n",
    "parameters_range = (-1.0, 1.0)"
   ]
  },
  {
   "cell_type": "markdown",
   "metadata": {},
   "source": [
    "### Non-Encrypted Training"
   ]
  },
  {
   "cell_type": "code",
   "execution_count": 5,
   "metadata": {},
   "outputs": [
    {
     "name": "stdout",
     "output_type": "stream",
     "text": [
      "Training time: 1711029024.24\n",
      "\n",
      "Evaluation time: 1711029024.45\n",
      "\n",
      "Accuracy: 0.8\n"
     ]
    }
   ],
   "source": [
    "# Initialize the model\n",
    "model = SGDClassifier(\n",
    "    n_bits=2,\n",
    "    max_iter=50,\n",
    "    fit_encrypted=False,\n",
    "    parameters_range=parameters_range\n",
    ")\n",
    "\n",
    "# Train the model in the clear\n",
    "train_time = time.time()\n",
    "model = model.fit(x_train, y_train)\n",
    "train_time_clear = time.time() - train_time\n",
    "print(f\"Training time: {round(train_time, 2)}\")\n",
    "print()\n",
    "\n",
    "# Compile the model\n",
    "model.compile(x_train)\n",
    "\n",
    "# Evaluate the model\n",
    "evaluation_time = time.time()\n",
    "y_pred_clear = model.predict(x_test, fhe='execute')\n",
    "evaluation_time_clear = time.time() - evaluation_time\n",
    "print(f\"Evaluation time: {round(evaluation_time, 2)}\")\n",
    "print()\n",
    "\n",
    "# Accuracy\n",
    "acc_clear = accuracy_score(y_test, y_pred_clear)\n",
    "print(f\"Accuracy: {acc_clear}\")"
   ]
  },
  {
   "cell_type": "markdown",
   "metadata": {},
   "source": [
    "### Encrypted Training"
   ]
  },
  {
   "cell_type": "code",
   "execution_count": 6,
   "metadata": {},
   "outputs": [
    {
     "name": "stdout",
     "output_type": "stream",
     "text": [
      "Training time: 1711029024.49\n",
      "\n",
      "Evaluation time: 1711029295.5\n",
      "\n",
      "Accuracy: 0.9\n"
     ]
    }
   ],
   "source": [
    "# Initialize the model\n",
    "model = SGDClassifier(\n",
    "    n_bits=2,\n",
    "    max_iter=50,\n",
    "    fit_encrypted=True,\n",
    "    parameters_range=parameters_range\n",
    ")\n",
    "\n",
    "# Train the model in FHE\n",
    "train_time = time.time()\n",
    "model = model.fit(x_train, y_train, fhe='execute')\n",
    "train_time_fhe = time.time() - train_time\n",
    "print(f\"Training time: {round(train_time, 2)}\")\n",
    "print()\n",
    "\n",
    "# Compile the model\n",
    "model.compile(x_train)\n",
    "\n",
    "# Evaluate the model\n",
    "evaluation_time = time.time()\n",
    "y_pred_fhe = model.predict(x_test, fhe='execute')\n",
    "evaluation_time_fhe = time.time() - evaluation_time\n",
    "print(f\"Evaluation time: {round(evaluation_time, 2)}\")\n",
    "print()\n",
    "\n",
    "# Accuracy\n",
    "acc_fhe = accuracy_score(y_test, y_pred_fhe)\n",
    "print(f\"Accuracy: {acc_fhe}\")"
   ]
  },
  {
   "cell_type": "markdown",
   "metadata": {},
   "source": [
    "## Comparison"
   ]
  },
  {
   "cell_type": "code",
   "execution_count": 7,
   "metadata": {},
   "outputs": [
    {
     "name": "stdout",
     "output_type": "stream",
     "text": [
      "Training time (clear): 0.09960794448852539\n",
      "Training time (FHE): 270.89286184310913\n",
      "Slowdown: 2719.590924540315\n"
     ]
    }
   ],
   "source": [
    "# Train time comparison\n",
    "print(f\"Training time (clear): {train_time_clear}\")\n",
    "print(f\"Training time (FHE): {train_time_fhe}\")\n",
    "print(f\"Slowdown: {train_time_fhe / train_time_clear}\")"
   ]
  },
  {
   "cell_type": "code",
   "execution_count": 8,
   "metadata": {},
   "outputs": [
    {
     "name": "stdout",
     "output_type": "stream",
     "text": [
      "Evaluation time (clear): 0.025860071182250977\n",
      "Evaluation time (FHE): 0.022551774978637695\n"
     ]
    }
   ],
   "source": [
    "# Evaluation time comparison\n",
    "print(f\"Evaluation time (clear): {evaluation_time_clear}\")\n",
    "print(f\"Evaluation time (FHE): {evaluation_time_fhe}\")"
   ]
  },
  {
   "cell_type": "code",
   "execution_count": 9,
   "metadata": {},
   "outputs": [
    {
     "name": "stdout",
     "output_type": "stream",
     "text": [
      "y_pred (clear): [1 2 1 2 2 2 2 1 2 2]\n",
      "y_pred (FHE): [1 2 1 2 2 2 1 1 2 2]\n",
      "y_pred comparison: [ True  True  True  True  True  True False  True  True  True]\n"
     ]
    }
   ],
   "source": [
    "# y_pred comparison\n",
    "print(f\"y_pred (clear): {y_pred_clear}\")\n",
    "print(f\"y_pred (FHE): {y_pred_fhe}\")\n",
    "print(f\"y_pred comparison: {y_pred_clear == y_pred_fhe}\")"
   ]
  },
  {
   "cell_type": "code",
   "execution_count": 10,
   "metadata": {},
   "outputs": [
    {
     "name": "stdout",
     "output_type": "stream",
     "text": [
      "Accuracy (clear): 0.8\n",
      "Accuracy (FHE): 0.9\n"
     ]
    }
   ],
   "source": [
    "# Accuracy comparison\n",
    "print(f\"Accuracy (clear): {acc_clear}\")\n",
    "print(f\"Accuracy (FHE): {acc_fhe}\")"
   ]
  }
 ],
 "metadata": {
  "kernelspec": {
   "display_name": "thesis",
   "language": "python",
   "name": "python3"
  },
  "language_info": {
   "codemirror_mode": {
    "name": "ipython",
    "version": 3
   },
   "file_extension": ".py",
   "mimetype": "text/x-python",
   "name": "python",
   "nbconvert_exporter": "python",
   "pygments_lexer": "ipython3",
   "version": "3.10.13"
  }
 },
 "nbformat": 4,
 "nbformat_minor": 2
}
